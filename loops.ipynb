{
 "cells": [
  {
   "cell_type": "code",
   "execution_count": 1,
   "id": "8942f196",
   "metadata": {},
   "outputs": [],
   "source": [
    "#while loop\n",
    "#for loop"
   ]
  },
  {
   "cell_type": "code",
   "execution_count": 2,
   "id": "05a6eace",
   "metadata": {},
   "outputs": [],
   "source": [
    "#for loop\n",
    "#range(5)        # 0,1,2,3,4\n",
    "#range(1,5)      # 1,2,3,4\n",
    "#range9(1,10,2)  # 1,3,5,7,9\n"
   ]
  },
  {
   "cell_type": "code",
   "execution_count": 3,
   "id": "0eee1a36",
   "metadata": {},
   "outputs": [
    {
     "name": "stdout",
     "output_type": "stream",
     "text": [
      "0 Hello World\n",
      "1 Hello World\n",
      "2 Hello World\n",
      "3 Hello World\n",
      "4 Hello World\n",
      "5 Hello World\n",
      "6 Hello World\n",
      "7 Hello World\n",
      "8 Hello World\n",
      "9 Hello World\n"
     ]
    }
   ],
   "source": [
    "for i in range(10):    \n",
    "    print(i,\"Hello World\")"
   ]
  },
  {
   "cell_type": "code",
   "execution_count": 4,
   "id": "867e13b8",
   "metadata": {},
   "outputs": [
    {
     "name": "stdout",
     "output_type": "stream",
     "text": [
      "1 Hello World\n",
      "2 Hello World\n",
      "3 Hello World\n",
      "4 Hello World\n",
      "5 Hello World\n",
      "6 Hello World\n",
      "7 Hello World\n",
      "8 Hello World\n",
      "9 Hello World\n"
     ]
    }
   ],
   "source": [
    "for i in range(1,10):\n",
    "    print(i,\"Hello World\")"
   ]
  },
  {
   "cell_type": "code",
   "execution_count": 5,
   "id": "e4b05f8b",
   "metadata": {},
   "outputs": [
    {
     "name": "stdout",
     "output_type": "stream",
     "text": [
      "1 Hello World\n",
      "4 Hello World\n",
      "7 Hello World\n"
     ]
    }
   ],
   "source": [
    "for i in range(1,10,3):\n",
    "    print(i,\"Hello World\")"
   ]
  },
  {
   "cell_type": "code",
   "execution_count": 6,
   "id": "780a2ce2",
   "metadata": {},
   "outputs": [
    {
     "name": "stdout",
     "output_type": "stream",
     "text": [
      "5 Hello\n",
      "4 Hello\n",
      "3 Hello\n",
      "2 Hello\n",
      "1 Hello\n"
     ]
    }
   ],
   "source": [
    "for i in range(5,0,-1):     #decreasing step\n",
    "    print(i,\"Hello\")"
   ]
  },
  {
   "cell_type": "code",
   "execution_count": 2,
   "id": "0b9b0ee3",
   "metadata": {},
   "outputs": [
    {
     "name": "stdout",
     "output_type": "stream",
     "text": [
      "Enter a= 5\n",
      "5\n",
      "10\n",
      "15\n",
      "20\n",
      "25\n",
      "30\n",
      "35\n",
      "40\n",
      "45\n",
      "50\n"
     ]
    }
   ],
   "source": [
    "a=int(input(\"Enter a= \"))\n",
    "for i in range(1,11):\n",
    "    print(i*a)"
   ]
  },
  {
   "cell_type": "code",
   "execution_count": 3,
   "id": "1f9153b5",
   "metadata": {},
   "outputs": [
    {
     "name": "stdout",
     "output_type": "stream",
     "text": [
      "Enter a= 7\n",
      "7 * 1 = 7\n",
      "7 * 2 = 14\n",
      "7 * 3 = 21\n",
      "7 * 4 = 28\n",
      "7 * 5 = 35\n",
      "7 * 6 = 42\n",
      "7 * 7 = 49\n",
      "7 * 8 = 56\n",
      "7 * 9 = 63\n",
      "7 * 10 = 70\n"
     ]
    }
   ],
   "source": [
    "a=int(input(\"Enter a= \"))\n",
    "for i in range(1,11):\n",
    "    print(a,\"*\",i,\"=\",i*a)"
   ]
  },
  {
   "cell_type": "code",
   "execution_count": 1,
   "id": "cc60031b",
   "metadata": {},
   "outputs": [
    {
     "name": "stdout",
     "output_type": "stream",
     "text": [
      "Enter n= 6\n",
      "Enter value of a: 56\n",
      "Enter value of a: 35\n",
      "Enter value of a: 67\n",
      "Enter value of a: 24\n",
      "Enter value of a: 57\n",
      "Enter value of a: 26\n"
     ]
    }
   ],
   "source": [
    "n = int(input(\"Enter n= \"))\n",
    "for i in range(n):\n",
    "    a = int(input(\"Enter value of a: \"))"
   ]
  },
  {
   "cell_type": "code",
   "execution_count": 2,
   "id": "59f56d9b",
   "metadata": {},
   "outputs": [
    {
     "name": "stdout",
     "output_type": "stream",
     "text": [
      "Enter value of a: 1000\n",
      "1000\n",
      "Enter value of a: 2000\n",
      "3000\n",
      "Enter value of a: 3000\n",
      "6000\n",
      "Enter value of a: 4000\n",
      "10000\n",
      "Enter value of a: 5000\n",
      "15000\n",
      "Enter value of a: 6000\n",
      "21000\n"
     ]
    }
   ],
   "source": [
    "s = 0\n",
    "\n",
    "for i in range(6):\n",
    "    a = int(input(\"Enter value of a: \"))\n",
    "    s=s + a\n",
    "    print(s)"
   ]
  },
  {
   "cell_type": "markdown",
   "id": "c581a162",
   "metadata": {},
   "source": [
    "### "
   ]
  },
  {
   "cell_type": "code",
   "execution_count": 2,
   "id": "f9f7b9ac",
   "metadata": {},
   "outputs": [
    {
     "name": "stdout",
     "output_type": "stream",
     "text": [
      "Enter value of a: 1000\n",
      "Enter value of a: 2000\n",
      "Enter value of a: 3000\n",
      "Enter value of a: 4000\n",
      "Enter value of a: 5000\n",
      "Enter value of a: 6000\n",
      "23500\n"
     ]
    }
   ],
   "source": [
    "s = 2500\n",
    "\n",
    "for i in range(6):\n",
    "    a = int(input(\"Enter value of a: \"))\n",
    "    s=s + a\n",
    "print(s)"
   ]
  },
  {
   "cell_type": "code",
   "execution_count": 1,
   "id": "6ce10339",
   "metadata": {},
   "outputs": [
    {
     "name": "stdout",
     "output_type": "stream",
     "text": [
      "Enter value of a: Ram\n",
      "Ram\n",
      "\n",
      "Enter value of a: Pawan\n",
      "Ram\n",
      "Pawan\n",
      "\n",
      "Enter value of a: Hari\n",
      "Ram\n",
      "Pawan\n",
      "Hari\n",
      "\n",
      "Enter value of a: Sandeep\n",
      "Ram\n",
      "Pawan\n",
      "Hari\n",
      "Sandeep\n",
      "\n",
      "Enter value of a: Yogesh\n",
      "Ram\n",
      "Pawan\n",
      "Hari\n",
      "Sandeep\n",
      "Yogesh\n",
      "\n",
      "Enter value of a: Sita\n",
      "Ram\n",
      "Pawan\n",
      "Hari\n",
      "Sandeep\n",
      "Yogesh\n",
      "Sita\n",
      "\n"
     ]
    }
   ],
   "source": [
    "#s = str()    #empty string\n",
    "s = \"\"        #empty string\n",
    "\n",
    "for i in range(6):\n",
    "    a = input(\"Enter value of a: \")\n",
    "    s=s + a + \"\\n\"\n",
    "    print(s)"
   ]
  },
  {
   "cell_type": "code",
   "execution_count": 6,
   "id": "14b6c907",
   "metadata": {},
   "outputs": [
    {
     "name": "stdout",
     "output_type": "stream",
     "text": [
      "Enter the value of n: 2\n",
      "Enter the name: Nikesh\n",
      "Enter the phone: 877742\n",
      "Enter the name: Umesh\n",
      "Enter the phone: 988434\n",
      "Nikesh 877742\n",
      "Umesh 988434\n",
      "\n"
     ]
    }
   ],
   "source": [
    "s= \"\"\n",
    "n=int(input(\"Enter the value of n: \"))\n",
    "for i in range(n):\n",
    "    name= input(\"Enter the name: \")\n",
    "    phone= input(\"Enter the phone: \")\n",
    "    s= s+ name +\" \"+ phone +\"\\n\"\n",
    "    \n",
    "print(s)"
   ]
  },
  {
   "cell_type": "code",
   "execution_count": 3,
   "id": "c2001b86",
   "metadata": {},
   "outputs": [
    {
     "name": "stdout",
     "output_type": "stream",
     "text": [
      "Enter n= 2\n",
      "Enter product name: Pen\n",
      "Enter the price: 20\n",
      "Enter the quantity: 45\n",
      "Enter product name: Copy\n",
      "Enter the price: 08\n",
      "Enter the quantity: 4\n",
      "Pen 20.0 45 900.0\n",
      "Copy 8.0 4 32.0\n",
      "\n",
      "932.0\n"
     ]
    }
   ],
   "source": [
    "#name, price, quantity, total, all_total\n",
    "\n",
    "bill=\"\"                                 #empty string #variable to be updated\n",
    "all_total=0                             #variable to be updated\n",
    "n= int(input(\"Enter n= \"))\n",
    "for i in range(n):\n",
    "    name=input(\"Enter product name: \")\n",
    "    price=float(input(\"Enter the price: \"))\n",
    "    qty=int(input(\"Enter the quantity: \"))\n",
    "    total=price*qty\n",
    "    bill=bill+name+\" \"+str(price)+\" \"+str(qty)+\" \"+str(total)+\"\\n\"\n",
    "    all_total = all_total+total\n",
    "print(bill)\n",
    "print(all_total)\n"
   ]
  },
  {
   "cell_type": "code",
   "execution_count": 4,
   "id": "7099188d",
   "metadata": {},
   "outputs": [
    {
     "name": "stdout",
     "output_type": "stream",
     "text": [
      "Enter n= 5\n",
      "15\n"
     ]
    }
   ],
   "source": [
    "s=0                       #sum\n",
    "n= int(input(\"Enter n= \"))\n",
    "for i in range(1,n+1):\n",
    "    s=s+i\n",
    "print(s)"
   ]
  },
  {
   "cell_type": "code",
   "execution_count": 9,
   "id": "837b7020",
   "metadata": {},
   "outputs": [
    {
     "name": "stdout",
     "output_type": "stream",
     "text": [
      "Enter n= 5\n",
      "120\n"
     ]
    }
   ],
   "source": [
    "n=int(input(\"Enter n= \"))\n",
    "fact=1                    #factorial\n",
    "\n",
    "for i in range(1,n+1):\n",
    "    fact*=i\n",
    "print(fact)"
   ]
  },
  {
   "cell_type": "code",
   "execution_count": 11,
   "id": "035cf31e",
   "metadata": {},
   "outputs": [
    {
     "name": "stdout",
     "output_type": "stream",
     "text": [
      "\n",
      "*\n",
      "**\n",
      "***\n",
      "****\n"
     ]
    }
   ],
   "source": [
    "for i in range(5):\n",
    "    print(i* \"*\")"
   ]
  },
  {
   "cell_type": "code",
   "execution_count": 12,
   "id": "aa5d78b2",
   "metadata": {},
   "outputs": [
    {
     "name": "stdout",
     "output_type": "stream",
     "text": [
      "      \n",
      "     **\n",
      "    ****\n",
      "   ******\n",
      "  ********\n"
     ]
    }
   ],
   "source": [
    "n=5\n",
    "for i in range(5):\n",
    "    print((n-i)*\" \",2*i * \"*\")"
   ]
  },
  {
   "cell_type": "code",
   "execution_count": 23,
   "id": "9f8ebce2",
   "metadata": {},
   "outputs": [
    {
     "name": "stdout",
     "output_type": "stream",
     "text": [
      "      \n",
      "     o\n",
      "    ooo\n",
      "   ooooo\n",
      "  ooooooo\n"
     ]
    }
   ],
   "source": [
    "n=5\n",
    "for i in range(5):\n",
    "    print((n-i)*\" \",(2*i-1) * \"o\")"
   ]
  },
  {
   "cell_type": "code",
   "execution_count": 3,
   "id": "3b80aab9",
   "metadata": {},
   "outputs": [
    {
     "name": "stdout",
     "output_type": "stream",
     "text": [
      "          o\n",
      "         ooo\n",
      "        ooooo\n",
      "       ooooooo\n",
      "      ooooooooo\n",
      "     ooooooooooo\n",
      "    ooooooooooooo\n",
      "   ooooooooooooooo\n",
      "  ooooooooooooooooo\n",
      " ooooooooooooooooooo\n",
      "  ooooooooooooooooo\n",
      "   ooooooooooooooo\n",
      "    ooooooooooooo\n",
      "     ooooooooooo\n",
      "      ooooooooo\n",
      "       ooooooo\n",
      "        ooooo\n",
      "         ooo\n",
      "          o\n",
      "           \n"
     ]
    }
   ],
   "source": [
    "n=10\n",
    "for i in range(1,n):\n",
    "    print((n-i)*\" \",(2*i-1) * \"o\")\n",
    "for i in range(n,-1,-1):\n",
    "    print((n-i)*\" \",(2*i-1) * \"o\")"
   ]
  },
  {
   "cell_type": "code",
   "execution_count": 31,
   "id": "c6e3b77e",
   "metadata": {},
   "outputs": [
    {
     "name": "stdout",
     "output_type": "stream",
     "text": [
      "H Hello\n",
      "e Hello\n",
      "l Hello\n",
      "l Hello\n",
      "o Hello\n",
      "  Hello\n",
      "W Hello\n",
      "o Hello\n",
      "r Hello\n",
      "l Hello\n",
      "d Hello\n"
     ]
    }
   ],
   "source": [
    "#loop in string\n",
    "\n",
    "a= \"Hello World\"\n",
    "for i in a:\n",
    "    print(i, \"Hello\")"
   ]
  },
  {
   "cell_type": "code",
   "execution_count": 34,
   "id": "2874f238",
   "metadata": {},
   "outputs": [
    {
     "name": "stdout",
     "output_type": "stream",
     "text": [
      "H.e.l.l.o. .W.o.r.l.d."
     ]
    }
   ],
   "source": [
    "a= \"Hello World\"\n",
    "for i in a:\n",
    "    print(i, end=\".\")     #print horizontally"
   ]
  },
  {
   "cell_type": "code",
   "execution_count": 33,
   "id": "71f414bc",
   "metadata": {},
   "outputs": [
    {
     "name": "stdout",
     "output_type": "stream",
     "text": [
      "0_1_2_3_4_"
     ]
    }
   ],
   "source": [
    "for i in range(5):\n",
    "    print(i,end=\"_\")"
   ]
  },
  {
   "cell_type": "code",
   "execution_count": 36,
   "id": "cd493f43",
   "metadata": {},
   "outputs": [
    {
     "name": "stdout",
     "output_type": "stream",
     "text": [
      "HelloWorld"
     ]
    }
   ],
   "source": [
    "a= \"Hello World\"\n",
    "for i in a:\n",
    "    if i != \" \":          #space not printed\n",
    "         print(i, end=\"\")"
   ]
  },
  {
   "cell_type": "code",
   "execution_count": 38,
   "id": "e3d3e233",
   "metadata": {},
   "outputs": [
    {
     "name": "stdout",
     "output_type": "stream",
     "text": [
      "1\n",
      "3\n",
      "5\n",
      "7\n",
      "9\n",
      "11\n",
      "13\n",
      "15\n",
      "17\n",
      "19\n"
     ]
    }
   ],
   "source": [
    "for i in range(0,21):\n",
    "    if i%2!=0:\n",
    "        print(i)"
   ]
  },
  {
   "cell_type": "code",
   "execution_count": 39,
   "id": "54213422",
   "metadata": {},
   "outputs": [
    {
     "name": "stdout",
     "output_type": "stream",
     "text": [
      "Hello World I am Ram !"
     ]
    }
   ],
   "source": [
    "a= \"Hello World. I am Ram !\"\n",
    "for i in a:\n",
    "    if i != \".\":                # space not printed\n",
    "         print(i, end=\"\")"
   ]
  },
  {
   "cell_type": "code",
   "execution_count": 44,
   "id": "4c71b657",
   "metadata": {},
   "outputs": [
    {
     "name": "stdout",
     "output_type": "stream",
     "text": [
      "Hello World I am Ram "
     ]
    }
   ],
   "source": [
    "a= \"Hello World. I am Ram !\"\n",
    "for i in a:\n",
    "    if i != \".\" and i !=\"!\":    # . and ! not printed      \n",
    "         print(i, end=\"\")"
   ]
  },
  {
   "cell_type": "code",
   "execution_count": 1,
   "id": "55803201",
   "metadata": {},
   "outputs": [
    {
     "name": "stdout",
     "output_type": "stream",
     "text": [
      "0\n",
      "1\n",
      "2\n",
      "3\n",
      "4\n"
     ]
    }
   ],
   "source": [
    "#break statement\n",
    "\n",
    "for i in range(10):\n",
    "    if i==5:\n",
    "        break\n",
    "    print(i)"
   ]
  },
  {
   "cell_type": "code",
   "execution_count": 5,
   "id": "c37eaf4b",
   "metadata": {},
   "outputs": [
    {
     "name": "stdout",
     "output_type": "stream",
     "text": [
      "0 1 2 3 4 6 7 8 9 "
     ]
    }
   ],
   "source": [
    "#continue stateent\n",
    "\n",
    "for i in range(10):\n",
    "    if i==5:\n",
    "        continue\n",
    "    print(i, end=\" \")"
   ]
  },
  {
   "cell_type": "code",
   "execution_count": 8,
   "id": "72b5b866",
   "metadata": {},
   "outputs": [
    {
     "name": "stdout",
     "output_type": "stream",
     "text": [
      "H\n",
      "e\n",
      "l\n",
      "l\n",
      "o\n",
      "W\n",
      "o\n",
      "r\n",
      "l\n",
      "d\n"
     ]
    }
   ],
   "source": [
    "a= \"Hello World\"\n",
    "for i in a:\n",
    "    if i== \" \":\n",
    "        continue\n",
    "    print(i)"
   ]
  },
  {
   "cell_type": "code",
   "execution_count": 12,
   "id": "4d2746e8",
   "metadata": {},
   "outputs": [
    {
     "name": "stdout",
     "output_type": "stream",
     "text": [
      "Hello World"
     ]
    }
   ],
   "source": [
    "a = \"Hello World. I am Python.\"\n",
    "for i in a:\n",
    "    if i==\".\":\n",
    "        break\n",
    "    print(i, end=\"\")"
   ]
  },
  {
   "cell_type": "code",
   "execution_count": 13,
   "id": "88977a04",
   "metadata": {},
   "outputs": [],
   "source": [
    "#pass statement\n",
    "\n",
    "a=5\n",
    "if a==5:\n",
    "    pass\n",
    "\n"
   ]
  },
  {
   "cell_type": "code",
   "execution_count": 14,
   "id": "a6b7a1d3",
   "metadata": {},
   "outputs": [],
   "source": [
    "for i in range(5):\n",
    "    pass"
   ]
  },
  {
   "cell_type": "code",
   "execution_count": 8,
   "id": "2f699e48",
   "metadata": {},
   "outputs": [
    {
     "name": "stdout",
     "output_type": "stream",
     "text": [
      "Enter n= 5\n",
      "The number is prime! 5\n"
     ]
    }
   ],
   "source": [
    "#for else loop        checks condition for multiple times if it is false\n",
    "\n",
    "#prime->2,3,5,7,11,13,17\n",
    "#composite->4,6,8,9,10,12\n",
    "\n",
    "n= int(input(\"Enter n= \"))\n",
    "if n>2:\n",
    "    for i in range(2,n):\n",
    "        if n%i==0:\n",
    "            print(\"The number is composite!\", n)\n",
    "            break\n",
    "    else:\n",
    "        print(\"The number is prime!\", n)\n",
    "else:\n",
    "    print(\"The value of n should be greater than 2\")"
   ]
  },
  {
   "cell_type": "code",
   "execution_count": 1,
   "id": "f8d2783e",
   "metadata": {},
   "outputs": [
    {
     "name": "stdout",
     "output_type": "stream",
     "text": [
      "0 Hello World\n",
      "1 Hello World\n",
      "2 Hello World\n",
      "3 Hello World\n",
      "4 Hello World\n",
      "5 Hello World\n",
      "6\n"
     ]
    }
   ],
   "source": [
    "# while loop\n",
    "\n",
    "a=0\n",
    "while a<=5:\n",
    "    print(a,\"Hello World\")\n",
    "    a+=1\n",
    "print(a)\n",
    "\n",
    "\n"
   ]
  },
  {
   "cell_type": "code",
   "execution_count": 2,
   "id": "70233a0b",
   "metadata": {},
   "outputs": [
    {
     "name": "stdout",
     "output_type": "stream",
     "text": [
      "0 Hello World\n",
      "0.5 Hello World\n",
      "1.0 Hello World\n",
      "1.5 Hello World\n",
      "2.0 Hello World\n",
      "2.5 Hello World\n",
      "3.0 Hello World\n",
      "3.5 Hello World\n",
      "4.0 Hello World\n",
      "4.5 Hello World\n",
      "5.0 Hello World\n",
      "5.5\n"
     ]
    }
   ],
   "source": [
    "a=0                            #value initialization\n",
    "while a<=5:\n",
    "    print(a,\"Hello World\")\n",
    "    a+=.5                      #we can control the no of loops in while loop so loop can run anyy times not 6\n",
    "print(a)"
   ]
  },
  {
   "cell_type": "code",
   "execution_count": 3,
   "id": "b6bb0738",
   "metadata": {},
   "outputs": [
    {
     "name": "stdout",
     "output_type": "stream",
     "text": [
      "5 Hello World\n",
      "4 Hello World\n",
      "3 Hello World\n",
      "2 Hello World\n",
      "1 Hello World\n",
      "0 Hello World\n",
      "-1\n"
     ]
    }
   ],
   "source": [
    "a=5                   #value initialization    \n",
    "while a>=0:\n",
    "    print(a,\"Hello World\")\n",
    "    a-=1                      \n",
    "print(a)"
   ]
  },
  {
   "cell_type": "code",
   "execution_count": 9,
   "id": "71088409",
   "metadata": {},
   "outputs": [
    {
     "name": "stdout",
     "output_type": "stream",
     "text": [
      "Enter a= 5\n",
      "5 * 1 = 5\n",
      "5 * 2 = 10\n",
      "5 * 3 = 15\n",
      "5 * 4 = 20\n",
      "5 * 5 = 25\n",
      "5 * 6 = 30\n",
      "5 * 7 = 35\n",
      "5 * 8 = 40\n",
      "5 * 9 = 45\n",
      "5 * 10 = 50\n",
      "5 * 11 = 55\n",
      "5 * 12 = 60\n",
      "5 * 13 = 65\n",
      "5 * 14 = 70\n",
      "5 * 15 = 75\n",
      "5 * 16 = 80\n",
      "5 * 17 = 85\n",
      "5 * 18 = 90\n",
      "5 * 19 = 95\n",
      "5 * 20 = 100\n",
      "21\n"
     ]
    }
   ],
   "source": [
    "i = 1\n",
    "\n",
    "a= int(input(\"Enter a= \"))\n",
    "while i<=20:\n",
    "    print(a,\"*\",i,\"=\",a*i)\n",
    "    i+=1\n",
    "print(i)"
   ]
  },
  {
   "cell_type": "code",
   "execution_count": 11,
   "id": "4aabfd66",
   "metadata": {},
   "outputs": [
    {
     "name": "stdout",
     "output_type": "stream",
     "text": [
      "Enter value of a: 100\n",
      "Enter value of a: 200\n",
      "Enter value of a: 300\n",
      "Enter value of a: 400\n",
      "Enter value of a: 500\n",
      "Total= 1500\n"
     ]
    }
   ],
   "source": [
    "s = 0\n",
    "i = 0\n",
    "while i<5:\n",
    "    a = int(input(\"Enter value of a: \"))\n",
    "    s=s + a\n",
    "    i+=1\n",
    "print(\"Total=\",s)"
   ]
  },
  {
   "cell_type": "code",
   "execution_count": 13,
   "id": "ba71ee62",
   "metadata": {
    "scrolled": true
   },
   "outputs": [
    {
     "name": "stdout",
     "output_type": "stream",
     "text": [
      "Enter n= 3\n",
      "Enter product name: pen\n",
      "Enter the price: 10\n",
      "Enter the quantity: 6\n",
      "Enter product name: Copy\n",
      "Enter the price: 50\n",
      "Enter the quantity: 8\n",
      "Enter product name: Book\n",
      "Enter the price: 150\n",
      "Enter the quantity: 5\n",
      "pen 10.0 6 60.0\n",
      "Copy 50.0 8 400.0\n",
      "Book 150.0 5 750.0\n",
      "\n",
      "1210.0\n"
     ]
    }
   ],
   "source": [
    "i=0\n",
    "bill=\"\"                                 #empty string #variable to be updated\n",
    "all_total=0                             #variable to be updated\n",
    "n= int(input(\"Enter n= \"))\n",
    "\n",
    "while i<n:\n",
    "    name=input(\"Enter product name: \")\n",
    "    price=float(input(\"Enter the price: \"))\n",
    "    qty=int(input(\"Enter the quantity: \"))\n",
    "    total=price*qty\n",
    "    bill=bill+name+\" \"+str(price)+\" \"+str(qty)+\" \"+str(total)+\"\\n\"\n",
    "    all_total = all_total+total\n",
    "    i+=1\n",
    "    \n",
    "print(bill)\n",
    "print(all_total)"
   ]
  },
  {
   "cell_type": "code",
   "execution_count": 16,
   "id": "8d4d6fab",
   "metadata": {},
   "outputs": [
    {
     "name": "stdout",
     "output_type": "stream",
     "text": [
      "0\n",
      "1\n",
      "2\n",
      "3\n",
      "4\n",
      "5\n",
      "End of loop\n"
     ]
    }
   ],
   "source": [
    "i=0\n",
    "\n",
    "while i<=10:\n",
    "    print(i)\n",
    "    if i==5:\n",
    "        break\n",
    "    i+=1\n",
    "    \n",
    "print(\"End of loop\")\n",
    "   "
   ]
  },
  {
   "cell_type": "code",
   "execution_count": 17,
   "id": "0300aa61",
   "metadata": {},
   "outputs": [
    {
     "name": "stdout",
     "output_type": "stream",
     "text": [
      "1\n",
      "3\n",
      "5\n",
      "7\n",
      "9\n",
      "End of loop\n"
     ]
    }
   ],
   "source": [
    "i=0\n",
    "while i<=10:\n",
    " if i%2==0:\n",
    "    i+=1\n",
    "    continue\n",
    " print(i)\n",
    " i+=1\n",
    " \n",
    "\n",
    "print(\"End of loop\")"
   ]
  },
  {
   "cell_type": "code",
   "execution_count": 3,
   "id": "c5202eff",
   "metadata": {},
   "outputs": [
    {
     "name": "stdout",
     "output_type": "stream",
     "text": [
      "0\n",
      "1\n",
      "2\n",
      "3\n",
      "4\n",
      "6\n",
      "7\n",
      "8\n",
      "9\n",
      "10\n",
      "End of loop\n"
     ]
    }
   ],
   "source": [
    "i=0\n",
    "\n",
    "while i<=10:\n",
    "    \n",
    "    if i==5:\n",
    "        i+=1\n",
    "        continue\n",
    "    print(i)\n",
    "    i+=1\n",
    "    \n",
    "print(\"End of loop\")"
   ]
  },
  {
   "cell_type": "code",
   "execution_count": null,
   "id": "6c64bf48",
   "metadata": {},
   "outputs": [],
   "source": []
  }
 ],
 "metadata": {
  "kernelspec": {
   "display_name": "Python 3 (ipykernel)",
   "language": "python",
   "name": "python3"
  },
  "language_info": {
   "codemirror_mode": {
    "name": "ipython",
    "version": 3
   },
   "file_extension": ".py",
   "mimetype": "text/x-python",
   "name": "python",
   "nbconvert_exporter": "python",
   "pygments_lexer": "ipython3",
   "version": "3.11.5"
  }
 },
 "nbformat": 4,
 "nbformat_minor": 5
}
