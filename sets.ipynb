{
 "cells": [
  {
   "cell_type": "code",
   "execution_count": 1,
   "id": "de180332",
   "metadata": {},
   "outputs": [],
   "source": [
    "#set\n",
    "#-No indexing\n",
    "#-Unordered\n",
    "#-Multiple data but no duplicates\n",
    "#-Mutable\n"
   ]
  },
  {
   "cell_type": "code",
   "execution_count": 2,
   "id": "fbee122e",
   "metadata": {},
   "outputs": [],
   "source": [
    "a = set() \n"
   ]
  },
  {
   "cell_type": "code",
   "execution_count": 4,
   "id": "719a10ba",
   "metadata": {},
   "outputs": [
    {
     "name": "stdout",
     "output_type": "stream",
     "text": [
      "{'Apple', 'Ball', 'Fish', 'Dog', 'Cat'}\n"
     ]
    }
   ],
   "source": [
    "a = {'Apple','Ball','Cat','Dog','Fish'}\n",
    "print(a)"
   ]
  },
  {
   "cell_type": "code",
   "execution_count": 6,
   "id": "0fd2eaad",
   "metadata": {},
   "outputs": [
    {
     "ename": "TypeError",
     "evalue": "'set' object is not subscriptable",
     "output_type": "error",
     "traceback": [
      "\u001b[1;31m---------------------------------------------------------------------------\u001b[0m",
      "\u001b[1;31mTypeError\u001b[0m                                 Traceback (most recent call last)",
      "Cell \u001b[1;32mIn[6], line 1\u001b[0m\n\u001b[1;32m----> 1\u001b[0m \u001b[38;5;28mprint\u001b[39m(a[\u001b[38;5;241m0\u001b[39m])\n",
      "\u001b[1;31mTypeError\u001b[0m: 'set' object is not subscriptable"
     ]
    }
   ],
   "source": [
    "print(a[0])               #no indexing"
   ]
  },
  {
   "cell_type": "code",
   "execution_count": 7,
   "id": "010d6fd0",
   "metadata": {},
   "outputs": [
    {
     "name": "stdout",
     "output_type": "stream",
     "text": [
      "{'Apple', 'Ball', 'Fish', 'Dog', 'Cat'}\n"
     ]
    }
   ],
   "source": [
    "a = {'Apple','Ball','Cat','Dog','Fish','Apple'}        #No duplicate value\n",
    "print(a)"
   ]
  },
  {
   "cell_type": "code",
   "execution_count": 8,
   "id": "4aee61f7",
   "metadata": {},
   "outputs": [
    {
     "name": "stdout",
     "output_type": "stream",
     "text": [
      "Apple\n",
      "Ball\n",
      "Fish\n",
      "Dog\n",
      "Cat\n"
     ]
    }
   ],
   "source": [
    "a = {'Apple','Ball','Cat','Dog','Fish','Apple'} \n",
    "for i in a:\n",
    "    print(i)"
   ]
  },
  {
   "cell_type": "code",
   "execution_count": 9,
   "id": "1fa33827",
   "metadata": {},
   "outputs": [
    {
     "data": {
      "text/plain": [
       "dict"
      ]
     },
     "execution_count": 9,
     "metadata": {},
     "output_type": "execute_result"
    }
   ],
   "source": [
    "s={}\n",
    "type(s) #dict\n"
   ]
  },
  {
   "cell_type": "code",
   "execution_count": 10,
   "id": "ad0820da",
   "metadata": {},
   "outputs": [
    {
     "name": "stdout",
     "output_type": "stream",
     "text": [
      "<class 'set'>\n"
     ]
    }
   ],
   "source": [
    "s={1,2,3,4,5}\n",
    "print(type(s))"
   ]
  },
  {
   "cell_type": "code",
   "execution_count": 11,
   "id": "b9d44c0e",
   "metadata": {},
   "outputs": [
    {
     "name": "stdout",
     "output_type": "stream",
     "text": [
      "{'Dog', 'Cat', 'Apple', 'Ball'}\n"
     ]
    }
   ],
   "source": [
    "s = set()\n",
    "s.add(\"Apple\")                     #add() only adds one data at a time not multiple data\n",
    "s.add(\"Ball\")\n",
    "s.add(\"Cat\")\n",
    "s.add(\"Dog\")\n",
    "print(s)"
   ]
  },
  {
   "cell_type": "code",
   "execution_count": 12,
   "id": "352d77a5",
   "metadata": {},
   "outputs": [
    {
     "ename": "TypeError",
     "evalue": "unsupported operand type(s) for +: 'set' and 'set'",
     "output_type": "error",
     "traceback": [
      "\u001b[1;31m---------------------------------------------------------------------------\u001b[0m",
      "\u001b[1;31mTypeError\u001b[0m                                 Traceback (most recent call last)",
      "Cell \u001b[1;32mIn[12], line 3\u001b[0m\n\u001b[0;32m      1\u001b[0m a \u001b[38;5;241m=\u001b[39m {\u001b[38;5;241m1\u001b[39m,\u001b[38;5;241m2\u001b[39m,\u001b[38;5;241m3\u001b[39m,\u001b[38;5;241m4\u001b[39m,\u001b[38;5;241m5\u001b[39m}\n\u001b[0;32m      2\u001b[0m b \u001b[38;5;241m=\u001b[39m {\u001b[38;5;241m6\u001b[39m,\u001b[38;5;241m7\u001b[39m,\u001b[38;5;241m8\u001b[39m}\n\u001b[1;32m----> 3\u001b[0m c \u001b[38;5;241m=\u001b[39m a\u001b[38;5;241m+\u001b[39mb\n\u001b[0;32m      4\u001b[0m \u001b[38;5;28mprint\u001b[39m(c)\n",
      "\u001b[1;31mTypeError\u001b[0m: unsupported operand type(s) for +: 'set' and 'set'"
     ]
    }
   ],
   "source": [
    "a = {1,2,3,4,5}\n",
    "b = {6,7,8}\n",
    "c = a+b                    #no concatenation in set\n",
    "print(c)"
   ]
  },
  {
   "cell_type": "code",
   "execution_count": 13,
   "id": "166fa6ad",
   "metadata": {},
   "outputs": [
    {
     "name": "stdout",
     "output_type": "stream",
     "text": [
      "{1, 2, 3, 4, 5, 6, 7, 8, 9}\n"
     ]
    }
   ],
   "source": [
    "#update\n",
    "\n",
    "a = {1,2,3,4,5}\n",
    "a.update({3,4,5,6,7,8,9})\n",
    "print(a)"
   ]
  },
  {
   "cell_type": "code",
   "execution_count": 15,
   "id": "7481f1e0",
   "metadata": {},
   "outputs": [
    {
     "name": "stdout",
     "output_type": "stream",
     "text": [
      "{'google', 'Lacoste', 'Ralph Lauren', 'apple'}\n"
     ]
    }
   ],
   "source": [
    "companies = {'Lacoste', 'Ralph Lauren'}\n",
    "tech_companies = {'apple', 'google', 'apple'}\n",
    "companies.update(tech_companies)\n",
    "\n",
    "print(companies)"
   ]
  },
  {
   "cell_type": "code",
   "execution_count": 16,
   "id": "c810f994",
   "metadata": {},
   "outputs": [
    {
     "data": {
      "text/plain": [
       "{2, 3, 4, 5}"
      ]
     },
     "execution_count": 16,
     "metadata": {},
     "output_type": "execute_result"
    }
   ],
   "source": [
    "a = {1,2,3,4,5}\n",
    "a.remove(1)\n",
    "a"
   ]
  },
  {
   "cell_type": "code",
   "execution_count": 19,
   "id": "9ff4f4dd",
   "metadata": {},
   "outputs": [
    {
     "data": {
      "text/plain": [
       "{1, 2, 3, 4, 5, 6}"
      ]
     },
     "execution_count": 19,
     "metadata": {},
     "output_type": "execute_result"
    }
   ],
   "source": [
    "a = [1,2,3,4,2,4,1,4,5,6,3,1,3,5,6,5]\n",
    "a = set(a)                           #creates set and removes duplicates\n",
    "a"
   ]
  },
  {
   "cell_type": "code",
   "execution_count": 21,
   "id": "ef13ed93",
   "metadata": {},
   "outputs": [
    {
     "name": "stdout",
     "output_type": "stream",
     "text": [
      "{9, 7}\n",
      "{1, 3, 5, 7, 9}\n",
      "{6, 7, 8, 9, 10}\n"
     ]
    }
   ],
   "source": [
    "a = {1,3,5,7,9}\n",
    "b = {6,7,8,9,10}\n",
    "\n",
    "print(a.intersection(b))\n",
    "print(a)\n",
    "print(b)"
   ]
  },
  {
   "cell_type": "code",
   "execution_count": 27,
   "id": "09d92419",
   "metadata": {},
   "outputs": [
    {
     "name": "stdout",
     "output_type": "stream",
     "text": [
      "{1, 3, 5, 6, 7, 8, 9, 10}\n"
     ]
    }
   ],
   "source": [
    "a = {1,3,5,7,9}\n",
    "b = {6,7,8,9,10}\n",
    "\n",
    "u = a.union(b)\n",
    "print(u)"
   ]
  },
  {
   "cell_type": "code",
   "execution_count": 25,
   "id": "5c7f5a73",
   "metadata": {},
   "outputs": [
    {
     "name": "stdout",
     "output_type": "stream",
     "text": [
      "{1, 3, 5}\n",
      "{1, 3, 5, 7, 9}\n",
      "{6, 7, 8, 9, 10}\n"
     ]
    }
   ],
   "source": [
    "\n",
    "print(a.difference(b))\n",
    "print(a)\n",
    "print(b)"
   ]
  },
  {
   "cell_type": "code",
   "execution_count": 26,
   "id": "411e1b76",
   "metadata": {},
   "outputs": [
    {
     "name": "stdout",
     "output_type": "stream",
     "text": [
      "{8, 10, 6}\n",
      "{1, 3, 5, 7, 9}\n",
      "{6, 7, 8, 9, 10}\n"
     ]
    }
   ],
   "source": [
    "\n",
    "print(b.difference(a))\n",
    "print(a)\n",
    "print(b)"
   ]
  },
  {
   "cell_type": "code",
   "execution_count": 28,
   "id": "c8ba2ae5",
   "metadata": {},
   "outputs": [],
   "source": [
    "U = {1,2,3,4,5,6,7,8,9,10}               #universal set\n"
   ]
  },
  {
   "cell_type": "code",
   "execution_count": 29,
   "id": "7506ab8d",
   "metadata": {},
   "outputs": [
    {
     "name": "stdout",
     "output_type": "stream",
     "text": [
      "{2, 4}\n"
     ]
    }
   ],
   "source": [
    "print(U-u)"
   ]
  },
  {
   "cell_type": "code",
   "execution_count": 37,
   "id": "ec67cd7f",
   "metadata": {},
   "outputs": [
    {
     "name": "stdout",
     "output_type": "stream",
     "text": [
      "{'Sam'}\n",
      "{'Krish', 'Ram', 'Nabin', 'Steave', 'Bill', 'Robin', 'Satya', 'Sita', 'Sam', 'Jhon', 'Jack', 'Sabin'}\n",
      "{'Krish', 'Nabin', 'Robin', 'Steave', 'Jack'}\n",
      "{'Krish', 'Nabin', 'Robin', 'Steave', 'Jack'}\n",
      "{'Ram', 'Bill', 'Satya', 'Sita', 'Jhon', 'Sabin'}\n",
      "{'Ram', 'Bill', 'Satya', 'Sita', 'Jhon', 'Sabin'}\n",
      "{'xyz', 'abc'}\n"
     ]
    }
   ],
   "source": [
    "\n",
    "U = {'xyz','abc','Krish', 'Ram', 'Nabin', 'Steave', 'Bill', 'Robin', 'Satya', 'Sita', 'Sam', 'Jhon', 'Jack', 'Sabin'}\n",
    "\n",
    "apple = {\"Steave\",\"Robin\",\"Jack\",\"Nabin\",\"Sam\",\"Krish\"}\n",
    "MS = {\"Bill\",\"Jhon\",\"Ram\",\"Satya\",\"Sam\",\"Sabin\",\"Sita\"}\n",
    "\n",
    "am = apple.intersection(MS)\n",
    "print(am)\n",
    "\n",
    "un = apple.union(MS)\n",
    "print(un)\n",
    "\n",
    "ap = apple - MS\n",
    "print(ap)\n",
    "print(apple.difference(MS))\n",
    "\n",
    "om = MS - apple\n",
    "print(om)\n",
    "print(MS.difference(apple))\n",
    "\n",
    "print(U-un)           #universal set - union of sets\n"
   ]
  },
  {
   "cell_type": "code",
   "execution_count": 46,
   "id": "45319992",
   "metadata": {},
   "outputs": [
    {
     "name": "stdout",
     "output_type": "stream",
     "text": [
      "2\n",
      "6\n",
      "33.33333333333333\n"
     ]
    }
   ],
   "source": [
    "job = {'python','django','restapi','ml','tensorflow','pytorch'}\n",
    "profile = {'python','django','html','css'}\n",
    "\n",
    "len_skill=len(job.intersection(profile))\n",
    "print(len_skill)\n",
    "\n",
    "job_skill_len = len(job)\n",
    "print(job_skill_len)\n",
    "\n",
    "chance = len_skill/job_skill_len*100\n",
    "print(chance)"
   ]
  },
  {
   "cell_type": "code",
   "execution_count": 47,
   "id": "2cf538e5",
   "metadata": {},
   "outputs": [
    {
     "name": "stdout",
     "output_type": "stream",
     "text": [
      "False\n"
     ]
    }
   ],
   "source": [
    "job = {'python','django','restapi','ml','tensorflow','pytorch'}     #superset to profile set\n",
    "profile = {'python','django'}\n",
    "\n",
    "print(profile.issuperset(job))\n",
    "\n"
   ]
  },
  {
   "cell_type": "code",
   "execution_count": 48,
   "id": "60976152",
   "metadata": {},
   "outputs": [
    {
     "name": "stdout",
     "output_type": "stream",
     "text": [
      "True\n"
     ]
    }
   ],
   "source": [
    "print(profile.issubset(job))\n"
   ]
  },
  {
   "cell_type": "code",
   "execution_count": 49,
   "id": "edfd2f81",
   "metadata": {},
   "outputs": [
    {
     "name": "stdout",
     "output_type": "stream",
     "text": [
      "True\n"
     ]
    }
   ],
   "source": [
    "print(job.issuperset(profile))\n"
   ]
  },
  {
   "cell_type": "code",
   "execution_count": 50,
   "id": "367dc635",
   "metadata": {},
   "outputs": [
    {
     "data": {
      "text/plain": [
       "{(1, 2, 3), (4, 5, 6)}"
      ]
     },
     "execution_count": 50,
     "metadata": {},
     "output_type": "execute_result"
    }
   ],
   "source": [
    "s = {(1,2,3),(4,5,6)}                    #tuple can be inside set\n",
    "s"
   ]
  },
  {
   "cell_type": "code",
   "execution_count": 53,
   "id": "5e24e88f",
   "metadata": {},
   "outputs": [
    {
     "ename": "TypeError",
     "evalue": "unhashable type: 'list'",
     "output_type": "error",
     "traceback": [
      "\u001b[1;31m---------------------------------------------------------------------------\u001b[0m",
      "\u001b[1;31mTypeError\u001b[0m                                 Traceback (most recent call last)",
      "Cell \u001b[1;32mIn[53], line 1\u001b[0m\n\u001b[1;32m----> 1\u001b[0m s \u001b[38;5;241m=\u001b[39m {[\u001b[38;5;241m1\u001b[39m,\u001b[38;5;241m2\u001b[39m,\u001b[38;5;241m3\u001b[39m],[\u001b[38;5;241m4\u001b[39m,\u001b[38;5;241m5\u001b[39m,\u001b[38;5;241m6\u001b[39m]}                    \u001b[38;5;66;03m#no list inside set, set should not contain mutable datatype\u001b[39;00m\n\u001b[0;32m      2\u001b[0m s\n",
      "\u001b[1;31mTypeError\u001b[0m: unhashable type: 'list'"
     ]
    }
   ],
   "source": [
    "s = {[1,2,3],[4,5,6]}                    #no list inside set, set should not contain mutable data\n",
    "s"
   ]
  },
  {
   "cell_type": "code",
   "execution_count": 52,
   "id": "5808ee51",
   "metadata": {},
   "outputs": [
    {
     "ename": "TypeError",
     "evalue": "unhashable type: 'set'",
     "output_type": "error",
     "traceback": [
      "\u001b[1;31m---------------------------------------------------------------------------\u001b[0m",
      "\u001b[1;31mTypeError\u001b[0m                                 Traceback (most recent call last)",
      "Cell \u001b[1;32mIn[52], line 1\u001b[0m\n\u001b[1;32m----> 1\u001b[0m s \u001b[38;5;241m=\u001b[39m {{\u001b[38;5;241m1\u001b[39m,\u001b[38;5;241m2\u001b[39m,\u001b[38;5;241m3\u001b[39m},{\u001b[38;5;241m4\u001b[39m,\u001b[38;5;241m5\u001b[39m,\u001b[38;5;241m6\u001b[39m,\u001b[38;5;241m7\u001b[39m}}\n\u001b[0;32m      2\u001b[0m s\n",
      "\u001b[1;31mTypeError\u001b[0m: unhashable type: 'set'"
     ]
    }
   ],
   "source": [
    "s = {{1,2,3},{4,5,6,7}}                  #no set inside set, no mutable data should be inside list\n",
    "s"
   ]
  },
  {
   "cell_type": "code",
   "execution_count": null,
   "id": "1200c393",
   "metadata": {},
   "outputs": [],
   "source": []
  }
 ],
 "metadata": {
  "kernelspec": {
   "display_name": "Python 3 (ipykernel)",
   "language": "python",
   "name": "python3"
  },
  "language_info": {
   "codemirror_mode": {
    "name": "ipython",
    "version": 3
   },
   "file_extension": ".py",
   "mimetype": "text/x-python",
   "name": "python",
   "nbconvert_exporter": "python",
   "pygments_lexer": "ipython3",
   "version": "3.11.5"
  }
 },
 "nbformat": 4,
 "nbformat_minor": 5
}
