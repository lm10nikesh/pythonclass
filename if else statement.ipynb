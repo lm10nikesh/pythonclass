{
 "cells": [
  {
   "cell_type": "code",
   "execution_count": 1,
   "id": "d7a6c06a",
   "metadata": {},
   "outputs": [],
   "source": [
    "# < > <= >= == !=\n"
   ]
  },
  {
   "cell_type": "code",
   "execution_count": 4,
   "id": "06597d09",
   "metadata": {},
   "outputs": [
    {
     "name": "stdout",
     "output_type": "stream",
     "text": [
      "Enter value of a: 10\n",
      "Positive number 10\n"
     ]
    }
   ],
   "source": [
    "a= int(input(\"Enter value of a: \"))\n",
    "if a>=0:\n",
    "    print(\"Positive number\", a)\n",
    "else:\n",
    "    print(\"Negative number\", a)\n"
   ]
  },
  {
   "cell_type": "code",
   "execution_count": 10,
   "id": "7ce59169",
   "metadata": {},
   "outputs": [
    {
     "name": "stdout",
     "output_type": "stream",
     "text": [
      "Enter the value of a= 4\n",
      "4 is even \n"
     ]
    }
   ],
   "source": [
    "a= int(input(\"Enter the value of a= \"))\n",
    "if a%2==0:\n",
    "    print(a,\"is even \")\n",
    "else:\n",
    "    print(a,\"is odd \")"
   ]
  },
  {
   "cell_type": "code",
   "execution_count": 16,
   "id": "7a7ac34d",
   "metadata": {},
   "outputs": [
    {
     "name": "stdout",
     "output_type": "stream",
     "text": [
      "Enter the value of a= 10\n",
      "Enter the value of b= 10\n",
      "Both are equal.\n"
     ]
    }
   ],
   "source": [
    "a= int(input(\"Enter the value of a= \"))\n",
    "b= int(input(\"Enter the value of b= \"))\n",
    "if a>b:\n",
    "    print(a,\"is greater than\",b)\n",
    "elif b>a:\n",
    "    print(b,\"is greater than\",a)\n",
    "else:\n",
    "    print(\"Both are equal.\")"
   ]
  },
  {
   "cell_type": "code",
   "execution_count": 19,
   "id": "f0dfc364",
   "metadata": {},
   "outputs": [
    {
     "name": "stdout",
     "output_type": "stream",
     "text": [
      "Enter a= 9\n",
      "Enter b= 4\n",
      "Enter + or - or * or /-\n",
      "The difference is:  5\n"
     ]
    }
   ],
   "source": [
    "a= int(input(\"Enter a= \"))\n",
    "b= int(input(\"Enter b= \"))\n",
    "o= input(\"Enter + or - or * or /\")\n",
    "if o=='+':\n",
    "    print(\"The sum is: \",a+b)\n",
    "elif o=='-':\n",
    "    print(\"The difference is: \",a-b)\n",
    "elif o=='*':\n",
    "    print(\"The multiplication is: \",a*b)\n",
    "elif o=='/':\n",
    "    print(\"The division is: \",a/b)\n",
    "else:\n",
    "    print(\"Enter valid operator.\")"
   ]
  },
  {
   "cell_type": "code",
   "execution_count": 20,
   "id": "f87aff12",
   "metadata": {},
   "outputs": [
    {
     "name": "stdout",
     "output_type": "stream",
     "text": [
      "True\n",
      "False\n",
      "False\n",
      "False\n"
     ]
    }
   ],
   "source": [
    "#and\n",
    "print(True and True)\n",
    "print(True and False)\n",
    "print(False and True)\n",
    "print(False and False)"
   ]
  },
  {
   "cell_type": "code",
   "execution_count": 21,
   "id": "1dae079f",
   "metadata": {},
   "outputs": [
    {
     "name": "stdout",
     "output_type": "stream",
     "text": [
      "True\n",
      "True\n",
      "True\n",
      "False\n"
     ]
    }
   ],
   "source": [
    "#or\n",
    "print(True or True)\n",
    "print(True or False)\n",
    "print(False or True)\n",
    "print(False or False)"
   ]
  },
  {
   "cell_type": "code",
   "execution_count": 26,
   "id": "029b9e16",
   "metadata": {},
   "outputs": [
    {
     "name": "stdout",
     "output_type": "stream",
     "text": [
      "Enter a= 10\n",
      "Enter b= 0\n",
      "Enter + or - or * or //\n",
      "The value of b cannot be zero when o=/\n"
     ]
    }
   ],
   "source": [
    "a= int(input(\"Enter a= \"))\n",
    "b= int(input(\"Enter b= \"))\n",
    "o= input(\"Enter + or - or * or /\")\n",
    "if o=='+':\n",
    "    print(\"The sum is: \",a+b)\n",
    "elif o=='-':\n",
    "    print(\"The difference is: \",a-b)\n",
    "elif o=='*':\n",
    "    print(\"The multiplication is: \",a*b)\n",
    "elif (o=='/') and (b!=0):\n",
    "    print(\"The division is: \",a/b)\n",
    "elif (o=='/') and (b==0):\n",
    "    print(\"The value of b cannot be zero when o=/\")\n",
    "else:\n",
    "    print(\"Enter valid operator.\")"
   ]
  },
  {
   "cell_type": "code",
   "execution_count": 30,
   "id": "0bb43eaa",
   "metadata": {},
   "outputs": [
    {
     "name": "stdout",
     "output_type": "stream",
     "text": [
      "Enter the marks of physics: 70\n",
      "Enter the marks of chemistry: 89\n",
      "Enter the marks of maths: 87\n",
      "Enter the marks of english: 79\n",
      "Enter the marks of nepali: 68\n",
      "The total marks is  393.0\n",
      "The percentage is  78.6\n",
      "The grade is  B\n"
     ]
    }
   ],
   "source": [
    "phy= float(input(\"Enter the marks of physics: \"))\n",
    "chem= float(input(\"Enter the marks of chemistry: \"))\n",
    "maths= float(input(\"Enter the marks of maths: \"))\n",
    "eng= float(input(\"Enter the marks of english: \"))\n",
    "nepali= float(input(\"Enter the marks of nepali: \"))\n",
    "\n",
    "total = phy+chem+maths+eng+nepali\n",
    "per = total/5\n",
    "\n",
    "if per>=80:\n",
    "    grade= 'A'\n",
    "elif per>=60:\n",
    "    grade= 'B'\n",
    "elif per>= 45:\n",
    "    grade= 'C'\n",
    "else: \n",
    "    grade= 'F'\n",
    "    \n",
    "print(\"The total marks is \", total)\n",
    "print(\"The percentage is \", per)\n",
    "print(\"The grade is \", grade)\n"
   ]
  },
  {
   "cell_type": "code",
   "execution_count": 2,
   "id": "29ced241",
   "metadata": {},
   "outputs": [],
   "source": [
    "#Nested if else\n",
    "#if<condition>:\n",
    "#   if<condition>:\n",
    "#      <operations>\n",
    "#    else:\n",
    "#       <operations>\n",
    "# else:\n",
    "#<   operations>"
   ]
  },
  {
   "cell_type": "code",
   "execution_count": 5,
   "id": "3a9eee9e",
   "metadata": {},
   "outputs": [
    {
     "name": "stdout",
     "output_type": "stream",
     "text": [
      "Enter a= 10\n",
      "Enter b= 0\n",
      "Enter + or - or * or //\n",
      "The value of b cannot be zero when o='/'\n"
     ]
    }
   ],
   "source": [
    "a= int(input(\"Enter a= \"))\n",
    "b= int(input(\"Enter b= \"))\n",
    "o= input(\"Enter + or - or * or /\")\n",
    "if o=='+':\n",
    "    print(\"The sum is: \",a+b)\n",
    "elif o=='-':\n",
    "    print(\"The difference is: \",a-b)\n",
    "elif o=='*':\n",
    "    print(\"The multiplication is: \",a*b)\n",
    "elif (o=='/'):\n",
    "    if(b!=0):\n",
    "        print(a/b)\n",
    "    else:\n",
    "        print(\"The value of b cannot be zero when o='/'\")\n",
    "\n",
    "else:\n",
    "    print(\"Enter valid operator.\")"
   ]
  },
  {
   "cell_type": "code",
   "execution_count": 11,
   "id": "b066679e",
   "metadata": {},
   "outputs": [
    {
     "name": "stdout",
     "output_type": "stream",
     "text": [
      "Enter the marks of physics: 30\n",
      "Enter the marks of chemistry: 45\n",
      "Enter the marks of maths: 65\n",
      "Enter the marks of english: 56\n",
      "Enter the marks of nepali: 48\n",
      "The Grade is F\n"
     ]
    }
   ],
   "source": [
    "\n",
    "phy= float(input(\"Enter the marks of physics: \"))\n",
    "chem= float(input(\"Enter the marks of chemistry: \"))\n",
    "maths= float(input(\"Enter the marks of maths: \"))\n",
    "eng= float(input(\"Enter the marks of english: \"))\n",
    "nepali= float(input(\"Enter the marks of nepali: \"))\n",
    "\n",
    "if phy>=35 and chem>=35 and maths>=35 and eng>=35 and nepali>=35:\n",
    "    total = phy+chem+maths+eng+nepali\n",
    "    per = total/5\n",
    "\n",
    "    if per>80 or per==80:\n",
    "        grade= 'A'\n",
    "    elif per>60 or per==60:\n",
    "        grade= 'B'\n",
    "    elif per>45 or per==45:\n",
    "        grade= 'C'\n",
    "    else: \n",
    "        grade= 'F'\n",
    "\n",
    "    print(\"The total marks is \", total)\n",
    "    print(\"The percentage is \", per)\n",
    "    print(\"The grade is \", grade)\n",
    "\n",
    "else:\n",
    "    print(\"The Grade is\", 'F')"
   ]
  },
  {
   "cell_type": "code",
   "execution_count": null,
   "id": "8637a69e",
   "metadata": {},
   "outputs": [],
   "source": []
  },
  {
   "cell_type": "code",
   "execution_count": null,
   "id": "a0c13555",
   "metadata": {},
   "outputs": [],
   "source": []
  }
 ],
 "metadata": {
  "kernelspec": {
   "display_name": "Python 3 (ipykernel)",
   "language": "python",
   "name": "python3"
  },
  "language_info": {
   "codemirror_mode": {
    "name": "ipython",
    "version": 3
   },
   "file_extension": ".py",
   "mimetype": "text/x-python",
   "name": "python",
   "nbconvert_exporter": "python",
   "pygments_lexer": "ipython3",
   "version": "3.11.5"
  }
 },
 "nbformat": 4,
 "nbformat_minor": 5
}
