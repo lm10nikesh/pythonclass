{
 "cells": [
  {
   "cell_type": "code",
   "execution_count": 1,
   "id": "d2cca378",
   "metadata": {},
   "outputs": [],
   "source": [
    "# predefined dunctions\n",
    "#-print()\n",
    "#int()\n",
    "#str()\n",
    "#float()\n",
    "#type()\n",
    "#range()\n",
    "#tuple()\n",
    "#set()\n",
    "#dict()\n"
   ]
  },
  {
   "cell_type": "code",
   "execution_count": 2,
   "id": "57cbae31",
   "metadata": {},
   "outputs": [],
   "source": [
    "# user defined functions\n",
    "\n",
    "#def <function_name>():\n",
    "#    <operations>\n",
    "    \n",
    "#<function_name>()\n"
   ]
  },
  {
   "cell_type": "code",
   "execution_count": 4,
   "id": "ae9dc83b",
   "metadata": {},
   "outputs": [
    {
     "name": "stdout",
     "output_type": "stream",
     "text": [
      "Hello World\n",
      "Hello World\n",
      "Hello World\n"
     ]
    }
   ],
   "source": [
    "def hello():\n",
    "    print(\"Hello World\")\n",
    "    \n",
    "hello()\n",
    "hello()\n",
    "hello()"
   ]
  },
  {
   "cell_type": "code",
   "execution_count": 5,
   "id": "1847ca25",
   "metadata": {},
   "outputs": [
    {
     "name": "stdout",
     "output_type": "stream",
     "text": [
      "Enter the length: 5\n",
      "Enter the breadth: 3\n",
      "Enter the height: 6\n",
      "15\n",
      "90\n"
     ]
    }
   ],
   "source": [
    "def cal():                                      #defining function\n",
    "    l=int(input(\"Enter the length: \"))          #local variable\n",
    "    b=int(input(\"Enter the breadth: \"))         #local variable\n",
    "    h=int(input(\"Enter the height: \"))          #local variable\n",
    "    a=l*b\n",
    "    v=l*b*h\n",
    "    print(a)\n",
    "    print(v)\n",
    "    \n",
    "cal()                                            #function call\n"
   ]
  },
  {
   "cell_type": "code",
   "execution_count": 6,
   "id": "c51296fc",
   "metadata": {},
   "outputs": [
    {
     "name": "stdout",
     "output_type": "stream",
     "text": [
      "Enter the length: 35\n",
      "Enter the breadth: 26\n",
      "Enter the height: 45\n",
      "910\n",
      "40950\n"
     ]
    }
   ],
   "source": [
    "\n",
    "l=int(input(\"Enter the length: \"))          #global variable\n",
    "b=int(input(\"Enter the breadth: \"))         #global variable\n",
    "h=int(input(\"Enter the height: \"))          #global variable\n",
    "\n",
    "def cal():                                  #defining function\n",
    "   \n",
    "    a=l*b\n",
    "    v=l*b*h\n",
    "    print(a)\n",
    "    print(v)\n",
    "    \n",
    "cal()                                        #function call"
   ]
  },
  {
   "cell_type": "code",
   "execution_count": 7,
   "id": "47a38cd5",
   "metadata": {},
   "outputs": [
    {
     "name": "stdout",
     "output_type": "stream",
     "text": [
      "Enter the length: 4\n",
      "Enter the breadth: 3\n",
      "Enter the height: 5\n",
      "12\n",
      "60\n"
     ]
    }
   ],
   "source": [
    "l=int(input(\"Enter the length: \"))          #global variable\n",
    "b=int(input(\"Enter the breadth: \"))         #global variable\n",
    "h=int(input(\"Enter the height: \"))          #global variable\n",
    "\n",
    "def area():                                 #defining function\n",
    "    a=l*b\n",
    "    print(a)\n",
    "    \n",
    "def vol():\n",
    "    v=l*b*h\n",
    "    print(v)\n",
    "    \n",
    "area()                                       #function call\n",
    "vol()"
   ]
  },
  {
   "cell_type": "code",
   "execution_count": 13,
   "id": "502c20f2",
   "metadata": {},
   "outputs": [
    {
     "name": "stdout",
     "output_type": "stream",
     "text": [
      "Enter the length: 3\n",
      "Enter the breadth: 4\n",
      "Enter the height: 5\n",
      "The area is:  12\n",
      "The volume is:  60\n"
     ]
    }
   ],
   "source": [
    "\n",
    "#function with argument\n",
    "\n",
    "l=int(input(\"Enter the length: \"))          #global variable\n",
    "b=int(input(\"Enter the breadth: \"))         #global variable\n",
    "h=int(input(\"Enter the height: \"))          #global variable\n",
    "\n",
    "def cal(l,b,h):                             #defining function with parameters\n",
    "   \n",
    "    a=l*b\n",
    "    v=l*b*h\n",
    "    print(\"The area is: \",a)\n",
    "    print(\"The volume is: \",v)\n",
    "    \n",
    "cal(l,b,h)                                  #function call eith arguments       "
   ]
  },
  {
   "cell_type": "markdown",
   "id": "9f356dd2",
   "metadata": {},
   "source": [
    "##### "
   ]
  },
  {
   "cell_type": "code",
   "execution_count": 15,
   "id": "c366b199",
   "metadata": {},
   "outputs": [
    {
     "name": "stdout",
     "output_type": "stream",
     "text": [
      "Enter the length: 4\n",
      "Enter the breadth: 5\n",
      "Enter the height: 6\n",
      "The area is:  20\n",
      "The volume is:  120\n"
     ]
    }
   ],
   "source": [
    "l=int(input(\"Enter the length: \"))          #global variable\n",
    "b=int(input(\"Enter the breadth: \"))         #global variable\n",
    "h=int(input(\"Enter the height: \"))          #global variable\n",
    "\n",
    "def cal(x,y,z):                             #defining function with parameters\n",
    "   \n",
    "    a=x*y\n",
    "    v=x*y*z\n",
    "    print(\"The area is: \",a)\n",
    "    print(\"The volume is: \",v)\n",
    "    \n",
    "cal(l,b,h)                                #function call with arguments"
   ]
  },
  {
   "cell_type": "code",
   "execution_count": 16,
   "id": "9e2c2bb8",
   "metadata": {},
   "outputs": [
    {
     "name": "stdout",
     "output_type": "stream",
     "text": [
      "Enter the length: 1\n",
      "Enter the breadth: 2\n",
      "Enter the height: 3\n",
      "The area is:  2\n",
      "The volume is:  6\n"
     ]
    }
   ],
   "source": [
    "\n",
    "def cal(data):                             #defining function with parameters; \n",
    "    x,y,z=data\n",
    "    a=x*y\n",
    "    v=x*y*z\n",
    "    print(\"The area is: \",a)\n",
    "    print(\"The volume is: \",v)\n",
    "\n",
    "l=int(input(\"Enter the length: \"))          \n",
    "b=int(input(\"Enter the breadth: \"))         \n",
    "h=int(input(\"Enter the height: \"))         \n",
    "data=[l,b,h]                             #list\n",
    "\n",
    "cal(data)                                #function call with arguments"
   ]
  },
  {
   "cell_type": "code",
   "execution_count": 18,
   "id": "e930180c",
   "metadata": {},
   "outputs": [
    {
     "name": "stdout",
     "output_type": "stream",
     "text": [
      "C\n",
      "C++\n",
      "Java\n",
      "Python\n"
     ]
    }
   ],
   "source": [
    "def language(lan=\"Python\"):              #default value as argument\n",
    "    print(lan)\n",
    "\n",
    "language(\"C\")\n",
    "language(\"C++\")\n",
    "language(\"Java\")\n",
    "language()"
   ]
  },
  {
   "cell_type": "code",
   "execution_count": 19,
   "id": "9716d6ac",
   "metadata": {},
   "outputs": [
    {
     "name": "stdout",
     "output_type": "stream",
     "text": [
      "Hello World\n"
     ]
    }
   ],
   "source": [
    "# Return type functions\n",
    "\n",
    "def hello():\n",
    "    return \"Hello World\"\n",
    "\n",
    "print(hello())"
   ]
  },
  {
   "cell_type": "code",
   "execution_count": 21,
   "id": "b516dca0",
   "metadata": {},
   "outputs": [
    {
     "name": "stdout",
     "output_type": "stream",
     "text": [
      "Hello World. I am Python.\n"
     ]
    }
   ],
   "source": [
    "def hello():\n",
    "    return \"Hello World\"\n",
    "\n",
    "#print(hello())\n",
    "x = hello()\n",
    "print(x+\". I am Python.\")"
   ]
  },
  {
   "cell_type": "code",
   "execution_count": 25,
   "id": "2a282a04",
   "metadata": {},
   "outputs": [
    {
     "name": "stdout",
     "output_type": "stream",
     "text": [
      "Enter the length: 1\n",
      "Enter the breadth: 2\n",
      "Enter the height: 3\n",
      "6\n",
      "2\n"
     ]
    }
   ],
   "source": [
    "#function with arguments and return type\n",
    "\n",
    "l=int(input(\"Enter the length: \"))          #global variable\n",
    "b=int(input(\"Enter the breadth: \"))         #global variable\n",
    "h=int(input(\"Enter the height: \"))          #global variable\n",
    "\n",
    "def cal(x,y):                             #defining function with parameters\n",
    "   \n",
    "    a=x*y\n",
    "    return a\n",
    "\n",
    "area=cal(l,b)\n",
    "volume=area*h\n",
    "print(volume)\n",
    "print(area)  "
   ]
  },
  {
   "cell_type": "code",
   "execution_count": 26,
   "id": "a2576d00",
   "metadata": {},
   "outputs": [
    {
     "name": "stdout",
     "output_type": "stream",
     "text": [
      "Enter the length: 12\n",
      "Enter the breadth: 34\n",
      "Enter the height: 56\n",
      "(408, 22848)\n"
     ]
    }
   ],
   "source": [
    "\n",
    "l=int(input(\"Enter the length: \"))          #global variable\n",
    "b=int(input(\"Enter the breadth: \"))         #global variable\n",
    "h=int(input(\"Enter the height: \"))          #global variable\n",
    "\n",
    "def cal(l,b,h):                             #defining function with parameters\n",
    "   \n",
    "    a=l*b\n",
    "    v=l*b*h\n",
    "    return a,v\n",
    "    \n",
    "print(cal(l,b,h))  "
   ]
  },
  {
   "cell_type": "code",
   "execution_count": 28,
   "id": "63adffd2",
   "metadata": {},
   "outputs": [
    {
     "name": "stdout",
     "output_type": "stream",
     "text": [
      "Enter the length: 1\n",
      "Enter the breadth: 2\n",
      "Enter the height: 3\n",
      "(2, 6)\n",
      "2\n",
      "6\n"
     ]
    }
   ],
   "source": [
    "\n",
    "l=int(input(\"Enter the length: \"))          #global variable\n",
    "b=int(input(\"Enter the breadth: \"))         #global variable\n",
    "h=int(input(\"Enter the height: \"))          #global variable\n",
    "\n",
    "def cal(l,b,h):                             #defining function with parameters\n",
    "   \n",
    "    a=l*b\n",
    "    v=l*b*h\n",
    "    return a,v\n",
    "    \n",
    "print(cal(l,b,h))\n",
    "area,volume=cal(l,b,h)\n",
    "print(area)\n",
    "print(volume)"
   ]
  },
  {
   "cell_type": "code",
   "execution_count": 34,
   "id": "cec713f0",
   "metadata": {},
   "outputs": [
    {
     "name": "stdout",
     "output_type": "stream",
     "text": [
      "Enter a= 6\n",
      "Enter b= 3\n",
      "Enter + or - or * or /*\n",
      "18\n"
     ]
    }
   ],
   "source": [
    "a= int(input(\"Enter a= \"))\n",
    "b= int(input(\"Enter b= \"))\n",
    "o= input(\"Enter + or - or * or /\")\n",
    "def add(a,b):\n",
    "    return a+b\n",
    "def sub(a,b):\n",
    "    return a-b\n",
    "def mul(a,b):\n",
    "    return a*b\n",
    "def div(a,b):\n",
    "    return a/b\n",
    "def cal(a,b,o):\n",
    "    if o=='+':\n",
    "        print(add(a,b))\n",
    "    elif o=='-':\n",
    "        print(sub(a,b))\n",
    "    elif o=='*':\n",
    "        print(mul(a,b))\n",
    "    elif (o=='/') and (b!=0):\n",
    "        print(div(a,b))\n",
    "    elif (o=='/') and (b==0):\n",
    "        print(\"The value of b cannot be zero when o=/\")\n",
    "    else:\n",
    "        print(\"Enter valid operator.\")\n",
    "        \n",
    "cal(a,b,o)"
   ]
  },
  {
   "cell_type": "code",
   "execution_count": 36,
   "id": "049307ad",
   "metadata": {},
   "outputs": [
    {
     "name": "stdout",
     "output_type": "stream",
     "text": [
      "Enter n= 2\n",
      "Enter product name: fef\n",
      "Enter the price: 34\n",
      "Enter the quantity: 4\n",
      "Enter product name: ef\n",
      "Enter the price: 34\n",
      "Enter the quantity: 5\n",
      "fef34.0 4136.0\n",
      "ef34.0 5170.0\n",
      "\n",
      "306.0\n"
     ]
    }
   ],
   "source": [
    "bill=\"\"                                 #empty string #variable to be updated\n",
    "all_total=0                             #variable to be updated\n",
    "n= int(input(\"Enter n= \"))\n",
    "\n",
    "def billing_sys(n):\n",
    "    global bill,all_total              #global variables to increment inside function after defining outside function\n",
    "    for i in range(n):\n",
    "        name=input(\"Enter product name: \")\n",
    "        price=float(input(\"Enter the price: \"))\n",
    "        qty=int(input(\"Enter the quantity: \"))\n",
    "        total=price*qty\n",
    "        bill=bill+ f\"{name}{price} {qty}{total}\\n\"\n",
    "        all_total = all_total+total\n",
    "    return bill,all_total              #return after loop ends\n",
    "\n",
    "bill,all_total=billing_sys(n)\n",
    "print(bill)\n",
    "print(all_total)"
   ]
  },
  {
   "cell_type": "code",
   "execution_count": null,
   "id": "c43f9ea6",
   "metadata": {},
   "outputs": [],
   "source": []
  }
 ],
 "metadata": {
  "kernelspec": {
   "display_name": "Python 3 (ipykernel)",
   "language": "python",
   "name": "python3"
  },
  "language_info": {
   "codemirror_mode": {
    "name": "ipython",
    "version": 3
   },
   "file_extension": ".py",
   "mimetype": "text/x-python",
   "name": "python",
   "nbconvert_exporter": "python",
   "pygments_lexer": "ipython3",
   "version": "3.11.5"
  }
 },
 "nbformat": 4,
 "nbformat_minor": 5
}
