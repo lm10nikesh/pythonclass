{
 "cells": [
  {
   "cell_type": "code",
   "execution_count": 1,
   "id": "85301a8f",
   "metadata": {},
   "outputs": [],
   "source": [
    "# strings\n",
    "\n",
    "# imutable datatype\n",
    "\n"
   ]
  },
  {
   "cell_type": "code",
   "execution_count": 2,
   "id": "0751a25d",
   "metadata": {},
   "outputs": [
    {
     "name": "stdout",
     "output_type": "stream",
     "text": [
      "<class 'str'>\n",
      "<class 'str'>\n",
      "<class 'str'>\n"
     ]
    }
   ],
   "source": [
    "a= 'Hello World'\n",
    "b= \"Hello World\"\n",
    "c='''Hello World'''\n",
    "print(type(a))\n",
    "print(type(b))\n",
    "print(type(c))"
   ]
  },
  {
   "cell_type": "code",
   "execution_count": 4,
   "id": "73fcab32",
   "metadata": {},
   "outputs": [
    {
     "name": "stdout",
     "output_type": "stream",
     "text": [
      "Hello World. I am Python.\n"
     ]
    }
   ],
   "source": [
    "a = \"Hello World. \"\n",
    "b = \"I am Python.\"\n",
    "c = a+b\n",
    "print(c)"
   ]
  },
  {
   "cell_type": "code",
   "execution_count": 8,
   "id": "3d693438",
   "metadata": {},
   "outputs": [
    {
     "name": "stdout",
     "output_type": "stream",
     "text": [
      "Hello World\n",
      "Hello World\n",
      "\n"
     ]
    }
   ],
   "source": [
    "a = \"Hello World\\n\"\n",
    "print(a*2)"
   ]
  },
  {
   "cell_type": "code",
   "execution_count": 10,
   "id": "52d1398d",
   "metadata": {},
   "outputs": [
    {
     "name": "stdout",
     "output_type": "stream",
     "text": [
      "P\n",
      "y\n",
      "t\n",
      "h\n",
      "o\n",
      "n\n"
     ]
    }
   ],
   "source": [
    "a=\"Python\"\n",
    "for i in a:\n",
    "    print(i)"
   ]
  },
  {
   "cell_type": "code",
   "execution_count": 11,
   "id": "8fe975d7",
   "metadata": {},
   "outputs": [
    {
     "name": "stdout",
     "output_type": "stream",
     "text": [
      "Python"
     ]
    }
   ],
   "source": [
    "a=\"Python\"\n",
    "for i in a:\n",
    "    print(i, end=\"\")"
   ]
  },
  {
   "cell_type": "code",
   "execution_count": 12,
   "id": "3694c798",
   "metadata": {},
   "outputs": [
    {
     "name": "stdout",
     "output_type": "stream",
     "text": [
      "1\n",
      "0\n",
      "0\n"
     ]
    }
   ],
   "source": [
    "a=\"100\"\n",
    "for i in a:\n",
    "    print(i)"
   ]
  },
  {
   "cell_type": "code",
   "execution_count": 4,
   "id": "b45520cf",
   "metadata": {},
   "outputs": [
    {
     "name": "stdout",
     "output_type": "stream",
     "text": [
      "l\n",
      "Hello\n",
      "HloWrdIa yhn\n"
     ]
    }
   ],
   "source": [
    "a = \"Hello World I am Python\"\n",
    "print(a[2])           #string indexing\n",
    "print(a[0:5])         #string slicing\n",
    "print(a[0:23:2])      #step 2"
   ]
  },
  {
   "cell_type": "code",
   "execution_count": 5,
   "id": "09e071cb",
   "metadata": {},
   "outputs": [
    {
     "name": "stdout",
     "output_type": "stream",
     "text": [
      "23\n"
     ]
    }
   ],
   "source": [
    "a = \"Hello World I am Python\"\n",
    "print(len(a))"
   ]
  },
  {
   "cell_type": "code",
   "execution_count": 6,
   "id": "5a8ad0f0",
   "metadata": {},
   "outputs": [
    {
     "name": "stdout",
     "output_type": "stream",
     "text": [
      "P\n",
      "n\n"
     ]
    }
   ],
   "source": [
    "a = \"Python\"\n",
    "print(a[0])\n",
    "print(a[-1])       #negative indexing"
   ]
  },
  {
   "cell_type": "code",
   "execution_count": 8,
   "id": "1f91100b",
   "metadata": {},
   "outputs": [
    {
     "name": "stdout",
     "output_type": "stream",
     "text": [
      "nohtyP\n"
     ]
    }
   ],
   "source": [
    "a = \"Python\"\n",
    "print(a[-1:-7:-1])\n"
   ]
  },
  {
   "cell_type": "code",
   "execution_count": 13,
   "id": "b3d6f038",
   "metadata": {},
   "outputs": [
    {
     "name": "stdout",
     "output_type": "stream",
     "text": [
      "nohtyP ma I  dlroW olleH\n"
     ]
    }
   ],
   "source": [
    "a= \"Hello World  I am Python\"\n",
    "print(a[::-1])      "
   ]
  },
  {
   "cell_type": "code",
   "execution_count": 11,
   "id": "6d42eab0",
   "metadata": {},
   "outputs": [
    {
     "name": "stdout",
     "output_type": "stream",
     "text": [
      "nohty\n"
     ]
    }
   ],
   "source": [
    "a = \"Python\"\n",
    "print(a[-1:-6:-1])\n"
   ]
  },
  {
   "cell_type": "code",
   "execution_count": 18,
   "id": "c55c146a",
   "metadata": {},
   "outputs": [
    {
     "name": "stdout",
     "output_type": "stream",
     "text": [
      "Hello World  I am Python"
     ]
    }
   ],
   "source": [
    "a= \"Hello World  I am Python\"\n",
    "n = len(a)\n",
    "for i in range(n):\n",
    "    print(a[i], end=\"\")"
   ]
  },
  {
   "cell_type": "code",
   "execution_count": 4,
   "id": "45230958",
   "metadata": {},
   "outputs": [
    {
     "name": "stdout",
     "output_type": "stream",
     "text": [
      "Hello World  I am Python"
     ]
    }
   ],
   "source": [
    "a= \"Hello World  I am Python\"\n",
    "n = len(a)\n",
    "i=0\n",
    "while i<n:\n",
    "    print(a[i], end=\"\")\n",
    "    i+=1"
   ]
  },
  {
   "cell_type": "code",
   "execution_count": 7,
   "id": "f32a5b88",
   "metadata": {},
   "outputs": [
    {
     "name": "stdout",
     "output_type": "stream",
     "text": [
      "Finding...\n",
      "Finding...\n",
      "Finding...\n",
      "Finding...\n",
      "Finding...\n",
      "Found at index 5\n",
      "Finding...\n",
      "Finding...\n",
      "Finding...\n",
      "Finding...\n",
      "Finding...\n",
      "Found at index 11\n",
      "Finding...\n",
      "Found at index 13\n",
      "Finding...\n",
      "Finding...\n",
      "Found at index 16\n",
      "Finding...\n",
      "Finding...\n",
      "Finding...\n",
      "Finding...\n",
      "Finding...\n",
      "Finding...\n"
     ]
    }
   ],
   "source": [
    "# WAP to find index of \" \" in \n",
    "# a= \"Hello World  I am Python\"\n",
    "\n",
    "a= \"Hello World I am Python\"\n",
    "\n",
    "i=0\n",
    "while i<len(a):\n",
    "    if a[i]==\" \":\n",
    "        print(\"Found at index\",i)\n",
    "    else:\n",
    "        print(\"Finding...\")\n",
    "    i+=1\n",
    "    "
   ]
  },
  {
   "cell_type": "code",
   "execution_count": 29,
   "id": "0dce2444",
   "metadata": {},
   "outputs": [
    {
     "name": "stdout",
     "output_type": "stream",
     "text": [
      "Hello World, I am Ram. I am 34. I am from Kathmandu\n"
     ]
    }
   ],
   "source": [
    "# string formatting\n",
    "\n",
    "name=\"Ram\"\n",
    "age= 34\n",
    "add=\"Kathmandu\"\n",
    "\n",
    "#info=\"Hello World I am \"+name+ \" I am  \"+ str(age) + \"I am from\" +add      #old method\n",
    "\n",
    "info = f\"Hello World, I am {name}. I am {age}. I am from {add}\"       #string formatting\n",
    "print(info)"
   ]
  },
  {
   "cell_type": "code",
   "execution_count": 9,
   "id": "4156fc02",
   "metadata": {},
   "outputs": [
    {
     "name": "stdout",
     "output_type": "stream",
     "text": [
      "Enter n=2\n",
      "Enter product name: Pen\n",
      "Enter the price: 20\n",
      "Enter the quantity: 5\n",
      "Enter product name: Paper\n",
      "Enter the price: 40\n",
      "Enter the quantity: 7\n",
      " Pen 20.0 5 100.0\n",
      " Paper 40.0 7 280.0\n",
      "\n",
      "380.0\n"
     ]
    }
   ],
   "source": [
    "# WAP to create a billing system using string formatting.\n",
    "\n",
    "bill=\"\"\n",
    "all_total=0\n",
    "\n",
    "n= int(input(\"Enter n=\"))\n",
    "for i in range(n):\n",
    "    name=input(\"Enter product name: \")\n",
    "    price=float(input(\"Enter the price: \"))\n",
    "    qty=int(input(\"Enter the quantity: \"))\n",
    "    total=price*qty\n",
    "    bill=f\"{bill} {name} {price} {qty} {total}\"\"\\n\"\n",
    "    all_total = all_total+total\n",
    "print(bill)\n",
    "print(all_total)\n"
   ]
  },
  {
   "cell_type": "code",
   "execution_count": 52,
   "id": "d7dfb01d",
   "metadata": {},
   "outputs": [
    {
     "name": "stdout",
     "output_type": "stream",
     "text": [
      "Enter name= Ram\n",
      "Yes, there is Ram\n",
      "3\n"
     ]
    }
   ],
   "source": [
    "# Search in string\n",
    "\n",
    "a = \"Ram Shyam Hari Sita Ram Prakash Yogesh Ram Sita\"\n",
    "name= input(\"Enter name= \")\n",
    "\n",
    "if name in a:\n",
    "    print(\"Yes, there is\", name)\n",
    "    print(a.count(name))\n",
    "else:\n",
    "    print(\"There is no such name\")\n"
   ]
  },
  {
   "cell_type": "code",
   "execution_count": 44,
   "id": "d461cc38",
   "metadata": {},
   "outputs": [
    {
     "name": "stdout",
     "output_type": "stream",
     "text": [
      "RAM SHYAM HARI SITA RAM PRAKASH YOGESH RAM SITA\n",
      "ram shyam hari sita ram prakash yogesh ram sita\n"
     ]
    }
   ],
   "source": [
    "a = \"Ram Shyam Hari Sita Ram Prakash Yogesh Ram Sita\"\n",
    "print(a.upper())\n",
    "print(a.lower())"
   ]
  },
  {
   "cell_type": "code",
   "execution_count": 6,
   "id": "88f8bffe",
   "metadata": {},
   "outputs": [
    {
     "name": "stdout",
     "output_type": "stream",
     "text": [
      "ram shyam hari sita ram prakash yogesh ram sita\n"
     ]
    },
    {
     "data": {
      "text/plain": [
       "'ram shyam hari sita ram prakash yogesh ram sita'"
      ]
     },
     "execution_count": 6,
     "metadata": {},
     "output_type": "execute_result"
    }
   ],
   "source": [
    "a = \"Ram Shyam Hari Sita Ram Prakash Yogesh Ram Sita\"\n",
    "a = a.lower()\n",
    "print(a)\n"
   ]
  },
  {
   "cell_type": "code",
   "execution_count": 60,
   "id": "55bd89ff",
   "metadata": {},
   "outputs": [
    {
     "name": "stdout",
     "output_type": "stream",
     "text": [
      "Enter name= RaM\n",
      "Yes, there is RAM\n",
      "3\n"
     ]
    }
   ],
   "source": [
    "a = \"Ram Shyam Hari Sita Ram Prakash Yogesh Ram Sita\".upper()\n",
    "name= input(\"Enter name= \").upper()\n",
    "\n",
    "if name in a:\n",
    "    print(\"Yes, there is\", name)\n",
    "    print(a.count(name))\n",
    "else:\n",
    "    print(\"There is no such name\")"
   ]
  },
  {
   "cell_type": "code",
   "execution_count": 57,
   "id": "5158942a",
   "metadata": {},
   "outputs": [
    {
     "name": "stdout",
     "output_type": "stream",
     "text": [
      "Enter name= ram\n",
      "Yes, there is ram\n",
      "3\n"
     ]
    }
   ],
   "source": [
    "a = \"Ram Shyam Hari Sita Ram Prakash Yogesh Ram Sita\".lower()\n",
    "name= input(\"Enter name= \").lower()\n",
    "\n",
    "if name in a:\n",
    "    print(\"Yes, there is\", name)\n",
    "    print(a.count(name))\n",
    "else:\n",
    "    print(\"There is no such name\")"
   ]
  },
  {
   "cell_type": "code",
   "execution_count": 61,
   "id": "247cbd52",
   "metadata": {},
   "outputs": [
    {
     "name": "stdout",
     "output_type": "stream",
     "text": [
      "Enter name= Ram\n",
      "Yes, there is ram\n",
      "3\n"
     ]
    }
   ],
   "source": [
    "a = \"Ram Shyam Hari Sita Ramesh Prakash Yogesh Ram Sita\".lower()    #string sees Ramesh as Ram . It is a limitation.\n",
    "name= input(\"Enter name= \").lower()\n",
    "\n",
    "if name in a:\n",
    "    print(\"Yes, there is\", name)\n",
    "    print(a.count(name))\n",
    "else:\n",
    "    print(\"There is no such name\")"
   ]
  },
  {
   "cell_type": "code",
   "execution_count": 69,
   "id": "91ea6fbc",
   "metadata": {},
   "outputs": [
    {
     "name": "stdout",
     "output_type": "stream",
     "text": [
      "ram Shyam Hari Sita ram\n"
     ]
    }
   ],
   "source": [
    "a = \"Ram Shyam Hari Sita Ram\"\n",
    "a= a.replace(\"Ram\", \"ram\")\n",
    "print(a)"
   ]
  },
  {
   "cell_type": "code",
   "execution_count": 70,
   "id": "f4a63b39",
   "metadata": {},
   "outputs": [
    {
     "name": "stdout",
     "output_type": "stream",
     "text": [
      "ram Shyam Hari Sita Ram\n"
     ]
    }
   ],
   "source": [
    "a = \"Ram Shyam Hari Sita Ram\"\n",
    "a= a.replace(\"Ram \", \"ram \")             #space after Ram\n",
    "print(a)"
   ]
  },
  {
   "cell_type": "code",
   "execution_count": 68,
   "id": "5eea750f",
   "metadata": {},
   "outputs": [
    {
     "name": "stdout",
     "output_type": "stream",
     "text": [
      " Shyam Hari Sita \n"
     ]
    }
   ],
   "source": [
    "a = \"Ram Shyam Hari Sita Ram\"\n",
    "a= a.replace(\"Ram\", \"\")\n",
    "print(a)"
   ]
  },
  {
   "cell_type": "code",
   "execution_count": null,
   "id": "8e68df70",
   "metadata": {},
   "outputs": [],
   "source": []
  }
 ],
 "metadata": {
  "kernelspec": {
   "display_name": "Python 3 (ipykernel)",
   "language": "python",
   "name": "python3"
  },
  "language_info": {
   "codemirror_mode": {
    "name": "ipython",
    "version": 3
   },
   "file_extension": ".py",
   "mimetype": "text/x-python",
   "name": "python",
   "nbconvert_exporter": "python",
   "pygments_lexer": "ipython3",
   "version": "3.11.5"
  }
 },
 "nbformat": 4,
 "nbformat_minor": 5
}
