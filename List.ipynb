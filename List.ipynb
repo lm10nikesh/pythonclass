{
 "cells": [
  {
   "cell_type": "code",
   "execution_count": 1,
   "id": "fe2efb09",
   "metadata": {},
   "outputs": [],
   "source": [
    "#Python Collection\n",
    "#list\n",
    "#tuple\n",
    "#dict\n",
    "#set"
   ]
  },
  {
   "cell_type": "code",
   "execution_count": 2,
   "id": "09db0108",
   "metadata": {},
   "outputs": [],
   "source": [
    "#List\n",
    "#-indexing\n",
    "#-ordered\n",
    "#-multiple and duplicate data\n",
    "#-mutable"
   ]
  },
  {
   "cell_type": "code",
   "execution_count": 3,
   "id": "6019dd4b",
   "metadata": {},
   "outputs": [
    {
     "name": "stdout",
     "output_type": "stream",
     "text": [
      "<class 'list'>\n",
      "<class 'list'>\n"
     ]
    }
   ],
   "source": [
    "a= [1,2,3,4,5,6,7,8,9,0]\n",
    "b= [\"apple\", \"ball\", \"cat\"]\n",
    "print(type(a))\n",
    "print(type(b))"
   ]
  },
  {
   "cell_type": "code",
   "execution_count": 19,
   "id": "10a82f28",
   "metadata": {},
   "outputs": [
    {
     "name": "stdout",
     "output_type": "stream",
     "text": [
      "apple\n",
      "['apple', 'ball', 'cat', 'dog']\n",
      "['apple', 'cat', 'orange']\n"
     ]
    }
   ],
   "source": [
    "b= [\"apple\", \"ball\", \"cat\", \"dog\", \"orange\"]\n",
    "print(b[0])\n",
    "print(b[:4])\n",
    "print(b[0:5:2])"
   ]
  },
  {
   "cell_type": "code",
   "execution_count": 20,
   "id": "f67a79ce",
   "metadata": {},
   "outputs": [
    {
     "name": "stdout",
     "output_type": "stream",
     "text": [
      "[1, 2, 3, 4, 5, 6, 7, 8, 9, 0]\n"
     ]
    }
   ],
   "source": [
    "a = [1,2,3,4,5]          \n",
    "b = [6,7,8,9,0]\n",
    "c = a+b                 #concatenation\n",
    "print(c)"
   ]
  },
  {
   "cell_type": "code",
   "execution_count": 21,
   "id": "191f455a",
   "metadata": {},
   "outputs": [
    {
     "name": "stdout",
     "output_type": "stream",
     "text": [
      "[1, 2, 3, 4, 5, 1, 2, 3, 4, 5]\n"
     ]
    }
   ],
   "source": [
    "a = [1,2,3,4,5]\n",
    "print(a*2)"
   ]
  },
  {
   "cell_type": "code",
   "execution_count": 27,
   "id": "64a952a1",
   "metadata": {},
   "outputs": [
    {
     "name": "stdout",
     "output_type": "stream",
     "text": [
      "apple\n",
      "ball\n",
      "cat\n",
      "dog\n",
      "orange\n"
     ]
    }
   ],
   "source": [
    "b= [\"apple\", \"ball\", \"cat\", \"dog\", \"orange\"]\n",
    "for i in b:\n",
    "    print(i)"
   ]
  },
  {
   "cell_type": "code",
   "execution_count": 28,
   "id": "3a45f05b",
   "metadata": {},
   "outputs": [],
   "source": [
    "#append() insert() extend()\n"
   ]
  },
  {
   "cell_type": "code",
   "execution_count": 3,
   "id": "97aa08c9",
   "metadata": {},
   "outputs": [
    {
     "name": "stdout",
     "output_type": "stream",
     "text": [
      "Enter n= 3\n",
      "Enter x= 45\n",
      "[45]\n",
      "Enter x= 477\n",
      "[45, 477]\n",
      "Enter x= 48\n",
      "[45, 477, 48]\n"
     ]
    }
   ],
   "source": [
    "#append\n",
    "\n",
    "a=[]\n",
    "n=int(input(\"Enter n= \"))\n",
    "for i in range(n):\n",
    "    x=int(input(\"Enter x= \"))\n",
    "    a.append(x)\n",
    "\n",
    "    print(a)\n"
   ]
  },
  {
   "cell_type": "markdown",
   "id": "1bcf9e28",
   "metadata": {},
   "source": []
  },
  {
   "cell_type": "code",
   "execution_count": 4,
   "id": "e9252b41",
   "metadata": {},
   "outputs": [
    {
     "data": {
      "text/plain": [
       "[45, 477, 48]"
      ]
     },
     "execution_count": 4,
     "metadata": {},
     "output_type": "execute_result"
    }
   ],
   "source": [
    "a"
   ]
  },
  {
   "cell_type": "code",
   "execution_count": 6,
   "id": "e092c002",
   "metadata": {},
   "outputs": [
    {
     "name": "stdout",
     "output_type": "stream",
     "text": [
      "The max value =  477\n",
      "The min value =  45\n",
      "The sum of values =  570\n",
      "[45, 48, 477]\n",
      "[477, 48, 45]\n",
      "[477, 48, 45, 576]\n"
     ]
    }
   ],
   "source": [
    "print(\"The max value = \", max(a))\n",
    "print(\"The min value = \", min(a))\n",
    "print(\"The sum of values = \", sum(a))\n",
    "a.sort()\n",
    "print(a)\n",
    "a.reverse()\n",
    "print(a)\n",
    "a.append(576)\n",
    "print(a)"
   ]
  },
  {
   "cell_type": "code",
   "execution_count": 8,
   "id": "19654f4e",
   "metadata": {},
   "outputs": [
    {
     "name": "stdout",
     "output_type": "stream",
     "text": [
      "['Apple', 'Ball', 'Ball', 'Cat', 'Xray', 'ant']\n"
     ]
    }
   ],
   "source": [
    "a = [\"Ball\", \"Apple\", \"Cat\", \"ant\", \"Xray\", \"Ball\"]\n",
    "a.sort()\n",
    "print(a)"
   ]
  },
  {
   "cell_type": "code",
   "execution_count": 12,
   "id": "455ff415",
   "metadata": {},
   "outputs": [
    {
     "name": "stdout",
     "output_type": "stream",
     "text": [
      "['1ant', 'Apple', 'Ball', 'Ball', 'Cat', '_Xray']\n"
     ]
    }
   ],
   "source": [
    "a = [\"Ball\", \"Apple\", \"Cat\", \"1ant\", \"_Xray\", \"Ball\"]\n",
    "a.sort()\n",
    "print(a)"
   ]
  },
  {
   "cell_type": "code",
   "execution_count": 13,
   "id": "37a2dcc3",
   "metadata": {},
   "outputs": [
    {
     "name": "stdout",
     "output_type": "stream",
     "text": [
      "['.Xray', '1ant', 'Apple', 'Ball', 'Ball', 'Cat']\n"
     ]
    }
   ],
   "source": [
    "a = [\"Ball\", \"Apple\", \"Cat\", \"1ant\", \".Xray\", \"Ball\"]\n",
    "a.sort()\n",
    "print(a)"
   ]
  },
  {
   "cell_type": "code",
   "execution_count": 14,
   "id": "167fe9a3",
   "metadata": {},
   "outputs": [
    {
     "name": "stdout",
     "output_type": "stream",
     "text": [
      "['1ant', '@Xray', 'Apple', 'Ball', 'Ball', 'Cat']\n"
     ]
    }
   ],
   "source": [
    "a = [\"Ball\", \"Apple\", \"Cat\", \"1ant\", \"@Xray\", \"Ball\"]\n",
    "a.sort()\n",
    "print(a)"
   ]
  },
  {
   "cell_type": "code",
   "execution_count": 19,
   "id": "49e64e35",
   "metadata": {},
   "outputs": [
    {
     "name": "stdout",
     "output_type": "stream",
     "text": [
      "['Ball', 'Apple', 'Cat', '1ant', '@Xray', 'Banana', 'Ball']\n"
     ]
    }
   ],
   "source": [
    "#insert\n",
    "\n",
    "a = [\"Ball\", \"Apple\", \"Cat\", \"1ant\", \"@Xray\", \"Ball\"]\n",
    "a.insert(5,\"Banana\")\n",
    "print(a)"
   ]
  },
  {
   "cell_type": "code",
   "execution_count": 23,
   "id": "4c4d28a1",
   "metadata": {},
   "outputs": [
    {
     "name": "stdout",
     "output_type": "stream",
     "text": [
      "['Ball', 'Apple', 'Cat', '1ant', '@Xray', 'Ball', 1, 2, 3, 4, 5, 6, 7, 8, 9, 0]\n"
     ]
    }
   ],
   "source": [
    "#extend\n",
    "\n",
    "a = [\"Ball\", \"Apple\", \"Cat\", \"1ant\", \"@Xray\", \"Ball\"]\n",
    "b = [1,2,3,4,5,6,7,8,9,0]\n",
    "a.extend(b)\n",
    "print(a)"
   ]
  },
  {
   "cell_type": "code",
   "execution_count": 24,
   "id": "2082e3da",
   "metadata": {},
   "outputs": [
    {
     "name": "stdout",
     "output_type": "stream",
     "text": [
      "['ball', 'Apple', 'Cat', '1ant', '@Xray', 'Ball']\n"
     ]
    }
   ],
   "source": [
    "# Update list\n",
    "\n",
    "a = [\"Ball\", \"Apple\", \"Cat\", \"1ant\", \"@Xray\", \"Ball\"]\n",
    "a[0] = \"ball\"        #updating\n",
    "print(a)"
   ]
  },
  {
   "cell_type": "code",
   "execution_count": 25,
   "id": "73246afd",
   "metadata": {},
   "outputs": [
    {
     "name": "stdout",
     "output_type": "stream",
     "text": [
      "['Ball', ['ball', 'apple'], 'Cat', '1ant', '@Xray', 'Ball']\n"
     ]
    }
   ],
   "source": [
    "a = [\"Ball\", \"Apple\", \"Cat\", \"1ant\", \"@Xray\", \"Ball\"]\n",
    "a[1] = [\"ball\", \"apple\"]               #updating\n",
    "print(a)"
   ]
  },
  {
   "cell_type": "code",
   "execution_count": 26,
   "id": "7ef36b90",
   "metadata": {},
   "outputs": [
    {
     "name": "stdout",
     "output_type": "stream",
     "text": [
      "['Ball', 'ball', 'apple', 'Cat', '1ant', '@Xray', 'Ball']\n"
     ]
    }
   ],
   "source": [
    "a = [\"Ball\", \"Apple\", \"Cat\", \"1ant\", \"@Xray\", \"Ball\"]\n",
    "a[1:2] = [\"ball\", \"apple\"]              #inserting when difference is index is 1\n",
    "print(a)"
   ]
  },
  {
   "cell_type": "code",
   "execution_count": 9,
   "id": "bb8aaf4d",
   "metadata": {},
   "outputs": [
    {
     "name": "stdout",
     "output_type": "stream",
     "text": [
      "['Ball', 'ball', 'apple', '1ant', '@Xray', 'Ball']\n"
     ]
    }
   ],
   "source": [
    "a = [\"Ball\", \"Apple\", \"Cat\", \"1ant\", \"@Xray\", \"Ball\"]\n",
    "a[1:3] = [\"ball\", \"apple\"]              #updating \n",
    "print(a)"
   ]
  },
  {
   "cell_type": "code",
   "execution_count": 28,
   "id": "7caea67b",
   "metadata": {},
   "outputs": [],
   "source": [
    "# Removing values from list\n",
    "#del remove() pop()\n"
   ]
  },
  {
   "cell_type": "code",
   "execution_count": 31,
   "id": "b74173a6",
   "metadata": {},
   "outputs": [
    {
     "name": "stdout",
     "output_type": "stream",
     "text": [
      "['Apple', 'Cat', '1ant', '@Xray', 'Ball']\n"
     ]
    }
   ],
   "source": [
    "a = [\"Ball\", \"Apple\", \"Cat\", \"1ant\", \"@Xray\", \"Ball\"]\n",
    "del a[0]\n",
    "print(a)"
   ]
  },
  {
   "cell_type": "code",
   "execution_count": 32,
   "id": "fe42a4e2",
   "metadata": {},
   "outputs": [
    {
     "name": "stdout",
     "output_type": "stream",
     "text": [
      "['1ant', '@Xray', 'Ball']\n"
     ]
    }
   ],
   "source": [
    "a = [\"Ball\", \"Apple\", \"Cat\", \"1ant\", \"@Xray\", \"Ball\"]\n",
    "del a[0:3]\n",
    "print(a)"
   ]
  },
  {
   "cell_type": "code",
   "execution_count": 34,
   "id": "4eb5ef56",
   "metadata": {},
   "outputs": [
    {
     "name": "stdout",
     "output_type": "stream",
     "text": [
      "1\n"
     ]
    }
   ],
   "source": [
    "#Finding index\n",
    "a = [\"Ball\", \"Apple\", \"Cat\", \"1ant\", \"@Xray\", \"Ball\"]\n",
    "print(a.index(\"Apple\"))"
   ]
  },
  {
   "cell_type": "code",
   "execution_count": 38,
   "id": "2961937e",
   "metadata": {},
   "outputs": [
    {
     "name": "stdout",
     "output_type": "stream",
     "text": [
      "Finding...\n",
      "Found index at 1\n",
      "Finding...\n",
      "Finding...\n",
      "Finding...\n",
      "Finding...\n",
      "Found index at 6\n"
     ]
    }
   ],
   "source": [
    "#Multiple indexing\n",
    "\n",
    "a = [\"Ball\", \"Apple\", \"Cat\", \"1ant\", \"@Xray\", \"Ball\", \"Apple\"]\n",
    "\n",
    "i=0\n",
    "\n",
    "while i<len(a):\n",
    "    if a[i]==\"Apple\":\n",
    "        print(\"Found index at\", i)\n",
    "    else:\n",
    "        print(\"Finding...\")\n",
    "    i+=1"
   ]
  },
  {
   "cell_type": "code",
   "execution_count": 14,
   "id": "30992f1f",
   "metadata": {},
   "outputs": [
    {
     "name": "stdout",
     "output_type": "stream",
     "text": [
      "Enter search value= apple\n",
      "Finding...\n",
      "Found index at 1\n",
      "Finding...\n",
      "Finding...\n",
      "Finding...\n",
      "Finding...\n",
      "Found index at 6\n",
      "APPLE\n"
     ]
    }
   ],
   "source": [
    "a = [x.upper() for x in [\"Ball\", \"Apple\", \"Cat\", \"1ant\", \"@Xray\", \"Ball\", \"Apple\"]]\n",
    "search= input(\"Enter search value= \").upper()\n",
    "\n",
    "for i in range(len(a)):\n",
    "    if a[i]==search:\n",
    "        print(\"Found index at\",i)\n",
    "    else:\n",
    "        print(\"Finding...\")\n",
    "\n",
    "print(a[1])\n",
    "        "
   ]
  },
  {
   "cell_type": "code",
   "execution_count": 45,
   "id": "397918a7",
   "metadata": {},
   "outputs": [
    {
     "name": "stdout",
     "output_type": "stream",
     "text": [
      "['Ball', 'Apple', '1ant', '@Xray', 'Ball', 'Apple']\n"
     ]
    }
   ],
   "source": [
    "#remove\n",
    "\n",
    "a = [\"Ball\", \"Apple\", \"Cat\", \"1ant\", \"@Xray\", \"Ball\", \"Apple\"]\n",
    "a.remove(\"Cat\")\n",
    "print(a)"
   ]
  },
  {
   "cell_type": "code",
   "execution_count": 50,
   "id": "b33ed51b",
   "metadata": {},
   "outputs": [
    {
     "name": "stdout",
     "output_type": "stream",
     "text": [
      "Enter the search value: Apple\n",
      "['ball', 'Cat', '1ant', '@Xray', 'Ball']\n"
     ]
    }
   ],
   "source": [
    "\n",
    "a = [\"ball\", \"Apple\", \"Cat\", \"1ant\", \"@Xray\", \"Ball\", \"Apple\"]\n",
    "search= input(\"Enter the search value: \")\n",
    "c= a.count(search)\n",
    "for i in range(c):\n",
    "    a.remove(search)\n",
    "print(a)"
   ]
  },
  {
   "cell_type": "code",
   "execution_count": 1,
   "id": "5da207c4",
   "metadata": {},
   "outputs": [
    {
     "name": "stdout",
     "output_type": "stream",
     "text": [
      "['Apple', 'Cat', '1ant', '@Xray', 'Ball', 'Apple']\n"
     ]
    }
   ],
   "source": [
    "#pop\n",
    "\n",
    "a = [\"ball\", \"Apple\", \"Cat\", \"1ant\", \"@Xray\", \"Ball\", \"Apple\"]\n",
    "a.pop(0)\n",
    "print(a)\n"
   ]
  },
  {
   "cell_type": "code",
   "execution_count": 2,
   "id": "3a63b51c",
   "metadata": {},
   "outputs": [
    {
     "name": "stdout",
     "output_type": "stream",
     "text": [
      "['ball', 'Apple', 'Cat', '1ant', 'Ball', 'Apple']\n",
      "@Xray\n"
     ]
    }
   ],
   "source": [
    "a = [\"ball\", \"Apple\", \"Cat\", \"1ant\", \"@Xray\", \"Ball\", \"Apple\"]\n",
    "b = a.pop(4)\n",
    "print(a)\n",
    "print(b)"
   ]
  },
  {
   "cell_type": "code",
   "execution_count": 1,
   "id": "f739f4f5",
   "metadata": {},
   "outputs": [
    {
     "name": "stdout",
     "output_type": "stream",
     "text": [
      "Enter search value: apple\n",
      "Yes\n",
      "2\n"
     ]
    }
   ],
   "source": [
    "# search in list\n",
    "\n",
    "a= ['apple', 'Cat0', 'ant', 'Xray0', 'Ball', 'apple']\n",
    "search = input(\"Enter search value: \")\n",
    "if search in a:\n",
    "    print(\"Yes\")\n",
    "    print(a.count(search))"
   ]
  },
  {
   "cell_type": "code",
   "execution_count": 7,
   "id": "772155d8",
   "metadata": {},
   "outputs": [
    {
     "name": "stdout",
     "output_type": "stream",
     "text": [
      "Enter search value: APPLE\n",
      "Yes there is such value\n"
     ]
    }
   ],
   "source": [
    "a= ['apple', 'Cat0', 'ant', 'Xray0', 'Ball', 'apple']\n",
    "search = input(\"Enter search value: \")\n",
    "c=0\n",
    "for i in range(len(a)):\n",
    "    if search.lower()==a[i].lower():\n",
    "        c=c+1\n",
    "    \n",
    "if c>0:\n",
    "    print(\"Yes there is such value\")\n",
    "else:\n",
    "    print(\"There is no such value\")"
   ]
  },
  {
   "cell_type": "code",
   "execution_count": 10,
   "id": "c4e3abb3",
   "metadata": {},
   "outputs": [
    {
     "name": "stdout",
     "output_type": "stream",
     "text": [
      "Enter search value: APPLE\n",
      "Yes\n",
      "2\n",
      "['apple', 'cat0', 'ant', 'xray0', 'ball', 'apple']\n"
     ]
    }
   ],
   "source": [
    "a= [x.lower() for x in['apple', 'Cat0', 'ant', 'Xray0', 'Ball', 'apple']]\n",
    "search = input(\"Enter search value: \").lower()\n",
    "if search in a:\n",
    "    print(\"Yes\")\n",
    "    print(a.count(search))\n",
    "print(a)"
   ]
  },
  {
   "cell_type": "code",
   "execution_count": 11,
   "id": "43b245d3",
   "metadata": {},
   "outputs": [],
   "source": [
    "#list inside list\n",
    "\n",
    "a = [[1,2,3],\n",
    "    [4,5,6],\n",
    "    [7,8,9]]\n"
   ]
  },
  {
   "cell_type": "code",
   "execution_count": 16,
   "id": "7734e1d0",
   "metadata": {},
   "outputs": [
    {
     "name": "stdout",
     "output_type": "stream",
     "text": [
      "[['Ram', 25, 'Pokhara'], ['Hari', 35, 'Kathmandu'], ['Kiran', 27, 'Birgunj']]\n"
     ]
    }
   ],
   "source": [
    "info=[['Ram', 25,'Pokhara'],\n",
    "     ['Hari',35,'Kathmandu'],\n",
    "     ['Kiran',27,'Birgunj']]\n",
    "print(info)"
   ]
  },
  {
   "cell_type": "code",
   "execution_count": 13,
   "id": "ff380418",
   "metadata": {},
   "outputs": [
    {
     "data": {
      "text/plain": [
       "['Ram', 25, 'Pokhara']"
      ]
     },
     "execution_count": 13,
     "metadata": {},
     "output_type": "execute_result"
    }
   ],
   "source": [
    "info[0]"
   ]
  },
  {
   "cell_type": "code",
   "execution_count": 14,
   "id": "abc68e25",
   "metadata": {},
   "outputs": [
    {
     "data": {
      "text/plain": [
       "'Ram'"
      ]
     },
     "execution_count": 14,
     "metadata": {},
     "output_type": "execute_result"
    }
   ],
   "source": [
    "info[0][0]"
   ]
  },
  {
   "cell_type": "code",
   "execution_count": 17,
   "id": "91cb3337",
   "metadata": {},
   "outputs": [
    {
     "data": {
      "text/plain": [
       "'Kathmandu'"
      ]
     },
     "execution_count": 17,
     "metadata": {},
     "output_type": "execute_result"
    }
   ],
   "source": [
    "info[1][2]"
   ]
  },
  {
   "cell_type": "code",
   "execution_count": 2,
   "id": "4cfc4e49",
   "metadata": {},
   "outputs": [
    {
     "name": "stdout",
     "output_type": "stream",
     "text": [
      "Enter the value of n: 4\n",
      "Enter the name: Ram\n",
      "Enter the age: 34\n",
      "Enter the address: Kathmandu\n",
      "Enter the name: Hari\n",
      "Enter the age: 36\n",
      "Enter the address: Pokhara\n",
      "Enter the name: Sita\n",
      "Enter the age: 38\n",
      "Enter the address: Lalitpur\n",
      "Enter the name: Pawan\n",
      "Enter the age: 27\n",
      "Enter the address: Bhaktapur\n",
      "[['Ram', 34, 'Kathmandu'], ['Hari', 36, 'Pokhara'], ['Sita', 38, 'Lalitpur'], ['Pawan', 27, 'Bhaktapur']]\n"
     ]
    }
   ],
   "source": [
    "info=[]\n",
    "n = int(input(\"Enter the value of n: \"))\n",
    "for i in range(n):\n",
    "    name= input(\"Enter the name: \")\n",
    "    age= int(input(\"Enter the age: \"))\n",
    "    add= input(\"Enter the address: \")\n",
    "    x= [name, age, add]\n",
    "    info.append(x)\n",
    "    \n",
    "print(info)\n"
   ]
  },
  {
   "cell_type": "code",
   "execution_count": 3,
   "id": "38ad3c9c",
   "metadata": {},
   "outputs": [
    {
     "data": {
      "text/plain": [
       "4"
      ]
     },
     "execution_count": 3,
     "metadata": {},
     "output_type": "execute_result"
    }
   ],
   "source": [
    "len(info)"
   ]
  },
  {
   "cell_type": "code",
   "execution_count": null,
   "id": "3cd812ee",
   "metadata": {},
   "outputs": [],
   "source": []
  },
  {
   "cell_type": "code",
   "execution_count": 4,
   "id": "ec1abe5a",
   "metadata": {},
   "outputs": [
    {
     "name": "stdout",
     "output_type": "stream",
     "text": [
      "['Ram', 34, 'Kathmandu']\n",
      "['Hari', 36, 'Pokhara']\n",
      "['Sita', 38, 'Lalitpur']\n",
      "['Pawan', 27, 'Bhaktapur']\n"
     ]
    }
   ],
   "source": [
    "for i in info:      #viewing all the records\n",
    "    print(i)"
   ]
  },
  {
   "cell_type": "code",
   "execution_count": 24,
   "id": "93507a4e",
   "metadata": {},
   "outputs": [
    {
     "name": "stdout",
     "output_type": "stream",
     "text": [
      "Enter the name: RAM\n",
      "['Ram', 34, 'Kathmandu']\n"
     ]
    }
   ],
   "source": [
    "name=input(\"Enter the name: \")\n",
    "for i in info:\n",
    "    if name.lower()== i[0].lower():\n",
    "        print(i)"
   ]
  },
  {
   "cell_type": "code",
   "execution_count": 8,
   "id": "de80d5d9",
   "metadata": {},
   "outputs": [
    {
     "name": "stdout",
     "output_type": "stream",
     "text": [
      "Enter the age: 35\n",
      "['Ram', 34, 'Kathmandu']\n",
      "['Hari', 36, 'Pokhara']\n",
      "['Sita', 38, 'Lalitpur']\n",
      "['Pawan', 27, 'Bhaktapur']\n"
     ]
    }
   ],
   "source": [
    "name=int(input(\"Enter the age: \"))   \n",
    "for i in info: \n",
    "    if i[1]>=age:\n",
    "        print(i)"
   ]
  },
  {
   "cell_type": "code",
   "execution_count": 25,
   "id": "bae1ae70",
   "metadata": {},
   "outputs": [
    {
     "data": {
      "text/plain": [
       "[['ram', 34, 'ktm'],\n",
       " ['Hari', 36, 'Pokhara'],\n",
       " ['Sita', 38, 'Lalitpur'],\n",
       " ['Pawan', 27, 'Bhaktapur']]"
      ]
     },
     "execution_count": 25,
     "metadata": {},
     "output_type": "execute_result"
    }
   ],
   "source": [
    "#update\n",
    "\n",
    "info[0]= ['ram',34,'ktm']\n",
    "info"
   ]
  },
  {
   "cell_type": "code",
   "execution_count": 27,
   "id": "a2cae8d7",
   "metadata": {},
   "outputs": [
    {
     "data": {
      "text/plain": [
       "[['Shyam', 34, 'ktm'],\n",
       " ['Hari', 36, 'Pokhara'],\n",
       " ['Sita', 38, 'Lalitpur'],\n",
       " ['Pawan', 27, 'Bhaktapur']]"
      ]
     },
     "execution_count": 27,
     "metadata": {},
     "output_type": "execute_result"
    }
   ],
   "source": [
    "info[0][0]='Shyam'\n",
    "info"
   ]
  },
  {
   "cell_type": "code",
   "execution_count": 37,
   "id": "679cda28",
   "metadata": {},
   "outputs": [],
   "source": [
    "# delete\n",
    "# del remove() pop()"
   ]
  },
  {
   "cell_type": "code",
   "execution_count": 6,
   "id": "b72b6b0a",
   "metadata": {},
   "outputs": [],
   "source": [
    "info = [['Shyam', 34, 'ktm'],\n",
    " ['Hari', 36, 'Pokhara'],\n",
    " ['Sita', 38, 'Lalitpur'],\n",
    " ['Pawan', 27, 'Bhaktapur']]"
   ]
  },
  {
   "cell_type": "code",
   "execution_count": 3,
   "id": "3aa5410c",
   "metadata": {},
   "outputs": [
    {
     "data": {
      "text/plain": [
       "[['Hari', 36, 'Pokhara'], ['Sita', 38, 'Lalitpur'], ['Pawan', 27, 'Bhaktapur']]"
      ]
     },
     "execution_count": 3,
     "metadata": {},
     "output_type": "execute_result"
    }
   ],
   "source": [
    "info = [['Shyam', 34, 'ktm'],\n",
    " ['Hari', 36, 'Pokhara'],\n",
    " ['Sita', 38, 'Lalitpur'],\n",
    " ['Pawan', 27, 'Bhaktapur']]\n",
    "\n",
    "info.remove(['Shyam', 34, 'ktm'])\n",
    "info"
   ]
  },
  {
   "cell_type": "code",
   "execution_count": 5,
   "id": "dcd25caf",
   "metadata": {},
   "outputs": [
    {
     "data": {
      "text/plain": [
       "[['Pawan', 27, 'Bhaktapur']]"
      ]
     },
     "execution_count": 5,
     "metadata": {},
     "output_type": "execute_result"
    }
   ],
   "source": [
    "del info[0]\n",
    "info"
   ]
  },
  {
   "cell_type": "code",
   "execution_count": 9,
   "id": "e7681202",
   "metadata": {},
   "outputs": [
    {
     "name": "stdout",
     "output_type": "stream",
     "text": [
      "Enter the name: Shyam\n",
      "[['Hari', 36, 'Pokhara'], ['Sita', 38, 'Lalitpur'], ['Pawan', 27, 'Bhaktapur']]\n"
     ]
    }
   ],
   "source": [
    "name=input(\"Enter the name: \")      #removing after search\n",
    "for i in info:\n",
    "    if name in i:\n",
    "        info.remove(i)\n",
    "print(info)"
   ]
  },
  {
   "cell_type": "code",
   "execution_count": null,
   "id": "d5c09cd4",
   "metadata": {},
   "outputs": [],
   "source": [
    "info = [['Shyam', 34, 'ktm', 50000],\n",
    " ['Hari', 36, 'Pokhara', 40000],\n",
    " ['Sita', 38, 'Lalitpur', 35000],\n",
    " ['Pawan', 27, 'Bhaktapur', 60000]]\n",
    "\n",
    "newinfo=[]\n",
    "salary=int(input(\"Enter salary\"))\n",
    "for i in info:\n",
    "    if salary in info:\n",
    "        info[][3]==\n"
   ]
  },
  {
   "cell_type": "code",
   "execution_count": null,
   "id": "7cbc1040",
   "metadata": {},
   "outputs": [],
   "source": []
  }
 ],
 "metadata": {
  "kernelspec": {
   "display_name": "Python 3 (ipykernel)",
   "language": "python",
   "name": "python3"
  },
  "language_info": {
   "codemirror_mode": {
    "name": "ipython",
    "version": 3
   },
   "file_extension": ".py",
   "mimetype": "text/x-python",
   "name": "python",
   "nbconvert_exporter": "python",
   "pygments_lexer": "ipython3",
   "version": "3.11.5"
  }
 },
 "nbformat": 4,
 "nbformat_minor": 5
}
