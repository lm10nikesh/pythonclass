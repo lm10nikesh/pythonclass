{
 "cells": [
  {
   "cell_type": "code",
   "execution_count": 1,
   "id": "b345ecb8",
   "metadata": {},
   "outputs": [],
   "source": [
    "# Tuples\n",
    "#-Indexing\n",
    "#-Ordered\n",
    "#-Multiple and duplicate data\n",
    "#-Imutable\n"
   ]
  },
  {
   "cell_type": "code",
   "execution_count": 5,
   "id": "4795aead",
   "metadata": {},
   "outputs": [
    {
     "name": "stdout",
     "output_type": "stream",
     "text": [
      "<class 'tuple'>\n"
     ]
    }
   ],
   "source": [
    "t= tuple()\n",
    "print(type(t))"
   ]
  },
  {
   "cell_type": "code",
   "execution_count": 3,
   "id": "6a4e39b7",
   "metadata": {},
   "outputs": [
    {
     "name": "stdout",
     "output_type": "stream",
     "text": [
      "<class 'tuple'>\n"
     ]
    }
   ],
   "source": [
    "t=(1,2,3,4,5,6,7,8)\n",
    "print(type(t))"
   ]
  },
  {
   "cell_type": "code",
   "execution_count": 6,
   "id": "35110ee1",
   "metadata": {},
   "outputs": [
    {
     "name": "stdout",
     "output_type": "stream",
     "text": [
      "<class 'tuple'>\n"
     ]
    }
   ],
   "source": [
    "t=(1,)                          #comma after only 1 element\n",
    "print(type(t))"
   ]
  },
  {
   "cell_type": "code",
   "execution_count": 7,
   "id": "317c3159",
   "metadata": {},
   "outputs": [],
   "source": [
    "#-Cannot create tuple   (append(), insert(), extend())\n",
    "#-Cannot update tuple   (sort())\n",
    "#-Cannot delete tuple   (del pop() remove())\n",
    "#-Can only read tuple through loop and index\n",
    "#-Mostly used for static data\n",
    "#-More lightweiht than list\n"
   ]
  },
  {
   "cell_type": "code",
   "execution_count": 10,
   "id": "efd20464",
   "metadata": {},
   "outputs": [
    {
     "name": "stdout",
     "output_type": "stream",
     "text": [
      "('Apple', 'Ball', 'Cat', 'Apple')\n",
      "Apple\n"
     ]
    }
   ],
   "source": [
    "t=(\"Apple\",\"Ball\",\"Cat\",\"Apple\")\n",
    "print(t)\n",
    "print(t[0])\n"
   ]
  },
  {
   "cell_type": "code",
   "execution_count": 11,
   "id": "c40aed28",
   "metadata": {},
   "outputs": [
    {
     "name": "stdout",
     "output_type": "stream",
     "text": [
      "563\n",
      "237\n",
      "2807\n"
     ]
    }
   ],
   "source": [
    "a=(245,276,287,237,376,347,563,476)\n",
    "print(max(a))\n",
    "print(min(a))\n",
    "print(sum(a))"
   ]
  },
  {
   "cell_type": "code",
   "execution_count": 13,
   "id": "bc8f419e",
   "metadata": {},
   "outputs": [
    {
     "name": "stdout",
     "output_type": "stream",
     "text": [
      "Yes\n",
      "2\n"
     ]
    }
   ],
   "source": [
    "t=(\"Apple\",\"Ball\",\"Cat\",\"Apple\")\n",
    "if \"Apple\" in t:\n",
    "    print(\"Yes\")\n",
    "    print(t.count(\"Apple\"))"
   ]
  },
  {
   "cell_type": "code",
   "execution_count": 15,
   "id": "ec81684a",
   "metadata": {},
   "outputs": [
    {
     "data": {
      "text/plain": [
       "('Apple', 'Ball', 'Cat', 'Apple')"
      ]
     },
     "execution_count": 15,
     "metadata": {},
     "output_type": "execute_result"
    }
   ],
   "source": [
    "t=(\"Apple\",\"Ball\",\"Cat\",\"Apple\")\n",
    "t.index(\"Apple\")\n",
    "t"
   ]
  },
  {
   "cell_type": "code",
   "execution_count": 21,
   "id": "e458af00",
   "metadata": {},
   "outputs": [
    {
     "name": "stdout",
     "output_type": "stream",
     "text": [
      "(1, 2, 3, 4, 5, 6, 7, 8)\n",
      "(1, 2, 3, 4, 5)\n",
      "(6, 7, 8)\n"
     ]
    }
   ],
   "source": [
    "a=(1,2,3,4,5)               #no changes in a and b\n",
    "b=(6,7,8)\n",
    "c=a+b\n",
    "print(c) \n",
    "print(a)\n",
    "print(b)"
   ]
  },
  {
   "cell_type": "code",
   "execution_count": 20,
   "id": "48e05a3e",
   "metadata": {},
   "outputs": [
    {
     "name": "stdout",
     "output_type": "stream",
     "text": [
      "(1, 2, 3, 4, 5, 1, 2, 3, 4, 5)\n",
      "(1, 2, 3, 4, 5)\n"
     ]
    }
   ],
   "source": [
    "a=(1,2,3,4,5)\n",
    "print(a*2)\n",
    "print(a)"
   ]
  },
  {
   "cell_type": "code",
   "execution_count": 25,
   "id": "90ec4bd8",
   "metadata": {},
   "outputs": [
    {
     "name": "stdout",
     "output_type": "stream",
     "text": [
      "Enter the value of n: 4\n",
      "Enter the value of x: Apple\n",
      "Enter the value of x: Ball\n",
      "Enter the value of x: Cat\n",
      "Enter the value of x: Dog\n",
      "('Apple', 'Ball', 'Cat', 'Dog')\n"
     ]
    }
   ],
   "source": [
    "t=()\n",
    "n=int(input(\"Enter the value of n: \"))\n",
    "for i in range(n):\n",
    "    x = input(\"Enter the value of x: \")\n",
    "    t = t+(x,)\n",
    "print(t)"
   ]
  },
  {
   "cell_type": "code",
   "execution_count": 26,
   "id": "5b5c87d3",
   "metadata": {},
   "outputs": [
    {
     "data": {
      "text/plain": [
       "('A', 'p', 'p', 'l', 'e')"
      ]
     },
     "execution_count": 26,
     "metadata": {},
     "output_type": "execute_result"
    }
   ],
   "source": [
    "a = \"Apple\"\n",
    "tuple(a)"
   ]
  },
  {
   "cell_type": "code",
   "execution_count": 27,
   "id": "a257ffa0",
   "metadata": {},
   "outputs": [
    {
     "data": {
      "text/plain": [
       "['A', 'p', 'p', 'l', 'e']"
      ]
     },
     "execution_count": 27,
     "metadata": {},
     "output_type": "execute_result"
    }
   ],
   "source": [
    "list(\"Apple\")"
   ]
  },
  {
   "cell_type": "code",
   "execution_count": 30,
   "id": "04117979",
   "metadata": {},
   "outputs": [
    {
     "data": {
      "text/plain": [
       "['Apple', 'Ball', 'Cat', 'Dog', 'Apple']"
      ]
     },
     "execution_count": 30,
     "metadata": {},
     "output_type": "execute_result"
    }
   ],
   "source": [
    "a = ('Apple', 'Ball', 'Cat', 'Dog', 'Apple')\n",
    "a = list(a)\n",
    "a"
   ]
  },
  {
   "cell_type": "code",
   "execution_count": 31,
   "id": "e01dcec3",
   "metadata": {},
   "outputs": [
    {
     "data": {
      "text/plain": [
       "('Ball', 'Cat', 'Dog', 'Apple')"
      ]
     },
     "execution_count": 31,
     "metadata": {},
     "output_type": "execute_result"
    }
   ],
   "source": [
    "del a[0]                           #converting tuple to list for deleting\n",
    "a = tuple(a)\n",
    "a"
   ]
  },
  {
   "cell_type": "code",
   "execution_count": 32,
   "id": "b4925fbc",
   "metadata": {},
   "outputs": [
    {
     "name": "stdout",
     "output_type": "stream",
     "text": [
      "((1, 2, 3), (4, 5, 6), (7, 8, 9))\n"
     ]
    }
   ],
   "source": [
    "# tuple inside tuple\n",
    "\n",
    "t = ((1,2,3),\n",
    "    (4,5,6),\n",
    "    (7,8,9))\n",
    "print(t)"
   ]
  },
  {
   "cell_type": "code",
   "execution_count": 34,
   "id": "e114c1de",
   "metadata": {},
   "outputs": [
    {
     "data": {
      "text/plain": [
       "3"
      ]
     },
     "execution_count": 34,
     "metadata": {},
     "output_type": "execute_result"
    }
   ],
   "source": [
    "t[0][2]"
   ]
  },
  {
   "cell_type": "code",
   "execution_count": 35,
   "id": "c17c2a8a",
   "metadata": {},
   "outputs": [
    {
     "name": "stdout",
     "output_type": "stream",
     "text": [
      "Enter n= 2\n",
      "Enter name: Ram\n",
      "Enter age: 35\n",
      "Enter address: KTM\n",
      "Enter name: Hari\n",
      "Enter age: 32\n",
      "Enter address: PKR\n",
      "(('Ram', 35, 'KTM'), ('Hari', 32, 'PKR'))\n"
     ]
    }
   ],
   "source": [
    "#creating tuple inside tuple\n",
    "\n",
    "info=()\n",
    "n=int(input(\"Enter n= \"))\n",
    "for i in range(n):\n",
    "    name= input(\"Enter name: \")\n",
    "    age= int(input(\"Enter age: \"))\n",
    "    add= input(\"Enter address: \")\n",
    "    x=(name,age,add)\n",
    "    info=info+(x,)\n",
    "    \n",
    "print(info)\n",
    "    \n",
    "    \n",
    "    "
   ]
  },
  {
   "cell_type": "code",
   "execution_count": 36,
   "id": "40df818d",
   "metadata": {},
   "outputs": [
    {
     "data": {
      "text/plain": [
       "(['Ram', 35, 'KTM'], ['Hari', 32, 'PKR'])"
      ]
     },
     "execution_count": 36,
     "metadata": {},
     "output_type": "execute_result"
    }
   ],
   "source": [
    "# list inside tuple\n",
    "\n",
    "t= (['Ram', 35, 'KTM'], ['Hari', 32, 'PKR'])\n",
    "t"
   ]
  },
  {
   "cell_type": "code",
   "execution_count": 37,
   "id": "85168e6e",
   "metadata": {},
   "outputs": [
    {
     "data": {
      "text/plain": [
       "['Ram', 35, 'KTM']"
      ]
     },
     "execution_count": 37,
     "metadata": {},
     "output_type": "execute_result"
    }
   ],
   "source": [
    "t[0]"
   ]
  },
  {
   "cell_type": "code",
   "execution_count": 38,
   "id": "9989e263",
   "metadata": {},
   "outputs": [
    {
     "data": {
      "text/plain": [
       "[('Ram', 35, 'KTM'), ('Hari', 32, 'PKR')]"
      ]
     },
     "execution_count": 38,
     "metadata": {},
     "output_type": "execute_result"
    }
   ],
   "source": [
    "#tuple inside list\n",
    "\n",
    "t= [('Ram', 35, 'KTM'), ('Hari', 32, 'PKR')]\n",
    "t"
   ]
  },
  {
   "cell_type": "code",
   "execution_count": 40,
   "id": "b1cd1633",
   "metadata": {},
   "outputs": [
    {
     "data": {
      "text/plain": [
       "('Hari', 32, 'PKR')"
      ]
     },
     "execution_count": 40,
     "metadata": {},
     "output_type": "execute_result"
    }
   ],
   "source": [
    "t[1]"
   ]
  },
  {
   "cell_type": "code",
   "execution_count": 41,
   "id": "95299ef8",
   "metadata": {},
   "outputs": [],
   "source": [
    "a = {('Ram','Sita'):973738432,            #keys in dictionary should be immutable so no list\n",
    "    'Hari':984473743}\n",
    "\n"
   ]
  },
  {
   "cell_type": "code",
   "execution_count": 44,
   "id": "7138d459",
   "metadata": {},
   "outputs": [
    {
     "data": {
      "text/plain": [
       "973738432"
      ]
     },
     "execution_count": 44,
     "metadata": {},
     "output_type": "execute_result"
    }
   ],
   "source": [
    "a[('Ram','Sita')]"
   ]
  },
  {
   "cell_type": "code",
   "execution_count": null,
   "id": "b61c0bd5",
   "metadata": {},
   "outputs": [],
   "source": []
  }
 ],
 "metadata": {
  "kernelspec": {
   "display_name": "Python 3 (ipykernel)",
   "language": "python",
   "name": "python3"
  },
  "language_info": {
   "codemirror_mode": {
    "name": "ipython",
    "version": 3
   },
   "file_extension": ".py",
   "mimetype": "text/x-python",
   "name": "python",
   "nbconvert_exporter": "python",
   "pygments_lexer": "ipython3",
   "version": "3.11.5"
  }
 },
 "nbformat": 4,
 "nbformat_minor": 5
}
