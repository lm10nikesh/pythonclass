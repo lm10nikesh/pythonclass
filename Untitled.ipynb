{
 "cells": [
  {
   "cell_type": "code",
   "execution_count": 4,
   "id": "bb294ce9",
   "metadata": {},
   "outputs": [],
   "source": [
    "with open(\"abc.txt\",\"w\") as f:\n",
    "    f.write(\"Hi everyone\\nwe are learning File I/O\\n\")\n",
    "    f.write(\"using Java\\nI like proramming in Java.\")\n"
   ]
  },
  {
   "cell_type": "code",
   "execution_count": 5,
   "id": "6c3c68ad",
   "metadata": {},
   "outputs": [],
   "source": [
    "import os\n",
    "os.remove(\"abc.txt\")"
   ]
  },
  {
   "cell_type": "code",
   "execution_count": 6,
   "id": "09efc349",
   "metadata": {},
   "outputs": [
    {
     "name": "stdout",
     "output_type": "stream",
     "text": [
      "Hi everyone\n",
      "we are learning File I/O\n",
      "using Python\n",
      "I like proramming in Python.\n"
     ]
    }
   ],
   "source": [
    "with open(\"practise.txt\",\"r\") as f:\n",
    "    data=f.read()\n",
    "new_data=data.replace(\"Java\",\"Python\")\n",
    "print(new_data)"
   ]
  },
  {
   "cell_type": "code",
   "execution_count": 7,
   "id": "cb951ae8",
   "metadata": {},
   "outputs": [],
   "source": [
    "with open(\"practise.txt\",\"w\") as f:\n",
    "    data=f.write(new_data)"
   ]
  },
  {
   "cell_type": "code",
   "execution_count": 10,
   "id": "f1690ed3",
   "metadata": {},
   "outputs": [
    {
     "name": "stdout",
     "output_type": "stream",
     "text": [
      "Found\n"
     ]
    }
   ],
   "source": [
    "def check_for_word():\n",
    "    word=\"learning\"\n",
    "    with open(\"practise.txt\",\"r\") as f:\n",
    "        data=f.read()\n",
    "        \n",
    "        if word in data:\n",
    "            print(\"Found\")\n",
    "        else:\n",
    "            print(\"Not Found\")\n",
    "check_for_word()"
   ]
  },
  {
   "cell_type": "code",
   "execution_count": 16,
   "id": "b5ebd807",
   "metadata": {},
   "outputs": [
    {
     "name": "stdout",
     "output_type": "stream",
     "text": [
      "2\n"
     ]
    }
   ],
   "source": [
    "def check_for_line():\n",
    "    word=\"learning\"\n",
    "    data=True\n",
    "    line_no=1\n",
    "    with open(\"practise.txt\",\"r\") as f:\n",
    "        while data:\n",
    "            data=f.readline()\n",
    "            if word in data:\n",
    "                print(line_no)\n",
    "                return\n",
    "            line_no+=1\n",
    "            \n",
    "    return -1\n",
    "\n",
    "\n",
    "check_for_line()"
   ]
  },
  {
   "cell_type": "code",
   "execution_count": null,
   "id": "f8a81b2d",
   "metadata": {},
   "outputs": [],
   "source": []
  }
 ],
 "metadata": {
  "kernelspec": {
   "display_name": "Python 3 (ipykernel)",
   "language": "python",
   "name": "python3"
  },
  "language_info": {
   "codemirror_mode": {
    "name": "ipython",
    "version": 3
   },
   "file_extension": ".py",
   "mimetype": "text/x-python",
   "name": "python",
   "nbconvert_exporter": "python",
   "pygments_lexer": "ipython3",
   "version": "3.11.5"
  }
 },
 "nbformat": 4,
 "nbformat_minor": 5
}
