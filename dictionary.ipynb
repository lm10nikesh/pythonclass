{
 "cells": [
  {
   "cell_type": "code",
   "execution_count": 1,
   "id": "819bddb7",
   "metadata": {},
   "outputs": [],
   "source": [
    "# dictionary\n",
    "\n",
    "#-indexing\n",
    "#-ordered\n",
    "#-multiple data\n",
    "#-mutable\n",
    "#-key value pair\n",
    "#-Keys should be unique"
   ]
  },
  {
   "cell_type": "code",
   "execution_count": 2,
   "id": "bc1fab69",
   "metadata": {},
   "outputs": [
    {
     "name": "stdout",
     "output_type": "stream",
     "text": [
      "{'a': 'Apple', 'b': 'Ball', 'c': 'Cat'}\n"
     ]
    }
   ],
   "source": [
    "d={'a':'Apple','b':'Ball','c':'Cat'}\n",
    "print(d)"
   ]
  },
  {
   "cell_type": "code",
   "execution_count": 3,
   "id": "9ab90637",
   "metadata": {},
   "outputs": [
    {
     "name": "stdout",
     "output_type": "stream",
     "text": [
      "Apple\n"
     ]
    }
   ],
   "source": [
    "print(d['a'])"
   ]
  },
  {
   "cell_type": "code",
   "execution_count": 4,
   "id": "79ec7cdc",
   "metadata": {},
   "outputs": [
    {
     "data": {
      "text/plain": [
       "3"
      ]
     },
     "execution_count": 4,
     "metadata": {},
     "output_type": "execute_result"
    }
   ],
   "source": [
    "len(d)"
   ]
  },
  {
   "cell_type": "code",
   "execution_count": 5,
   "id": "c416e78d",
   "metadata": {},
   "outputs": [],
   "source": [
    "# No + * used in dictionary"
   ]
  },
  {
   "cell_type": "code",
   "execution_count": 8,
   "id": "0510659c",
   "metadata": {},
   "outputs": [
    {
     "name": "stdout",
     "output_type": "stream",
     "text": [
      "a b c "
     ]
    }
   ],
   "source": [
    "d={'a':'Apple','b':'Ball','c':'Cat'}\n",
    "\n",
    "for i in d:\n",
    "    print(i, end=\" \")"
   ]
  },
  {
   "cell_type": "code",
   "execution_count": 9,
   "id": "ca6d24a1",
   "metadata": {},
   "outputs": [
    {
     "name": "stdout",
     "output_type": "stream",
     "text": [
      "Apple Ball Cat "
     ]
    }
   ],
   "source": [
    "d={'a':'Apple','b':'Ball','c':'Cat'}\n",
    "\n",
    "for i in d.values():\n",
    "    print(i, end=\" \")"
   ]
  },
  {
   "cell_type": "code",
   "execution_count": 14,
   "id": "1406d419",
   "metadata": {},
   "outputs": [
    {
     "name": "stdout",
     "output_type": "stream",
     "text": [
      "('a', 'Apple') ('b', 'Ball') ('c', 'Cat') dict_values(['Apple', 'Ball', 'Cat'])\n"
     ]
    }
   ],
   "source": [
    "d={\n",
    "    'a':'Apple',\n",
    "    'b':'Ball',\n",
    "    'c':'Cat'}\n",
    "\n",
    "for i in d.items():\n",
    "    print(i, end=\" \")\n",
    "\n",
    "print(d.values())"
   ]
  },
  {
   "cell_type": "code",
   "execution_count": 16,
   "id": "d323f71d",
   "metadata": {},
   "outputs": [
    {
     "data": {
      "text/plain": [
       "{'a': 'Apple', 'b': 'Ball', 'c': 'Cat'}"
      ]
     },
     "execution_count": 16,
     "metadata": {},
     "output_type": "execute_result"
    }
   ],
   "source": [
    "a = [['a', 'Apple'],['b','Ball'],['c','Cat']]       #list to dictionary\n",
    "dict(a)"
   ]
  },
  {
   "cell_type": "code",
   "execution_count": 20,
   "id": "d4e23d1d",
   "metadata": {},
   "outputs": [
    {
     "data": {
      "text/plain": [
       "[('a', 'Apple'), ('b', 'Ball'), ('c', 'Cat')]"
      ]
     },
     "execution_count": 20,
     "metadata": {},
     "output_type": "execute_result"
    }
   ],
   "source": [
    "a= {'a': 'Apple', 'b': 'Ball', 'c': 'Cat'}        #dictionary to list\n",
    "list(a.items())"
   ]
  },
  {
   "cell_type": "code",
   "execution_count": 25,
   "id": "b9a98e08",
   "metadata": {},
   "outputs": [
    {
     "data": {
      "text/plain": [
       "{'a': 'Apple', 'b': 'Ball', 'c': 'Cat', 'd': 'Dog'}"
      ]
     },
     "execution_count": 25,
     "metadata": {},
     "output_type": "execute_result"
    }
   ],
   "source": [
    "# create a dictionary\n",
    "\n",
    "#d = dict()\n",
    "\n",
    "d = {}\n",
    "d['a']='Apple'\n",
    "d['b']='Ball'\n",
    "d['c']='Cat'\n",
    "d['d']='Dog'\n",
    "d"
   ]
  },
  {
   "cell_type": "code",
   "execution_count": 22,
   "id": "95261ecf",
   "metadata": {},
   "outputs": [
    {
     "data": {
      "text/plain": [
       "{}"
      ]
     },
     "execution_count": 22,
     "metadata": {},
     "output_type": "execute_result"
    }
   ],
   "source": [
    "d = dict()\n",
    "d"
   ]
  },
  {
   "cell_type": "code",
   "execution_count": 26,
   "id": "b9076cec",
   "metadata": {},
   "outputs": [],
   "source": [
    "#d=dict()           #fnctions to create empty list and dictionary\n",
    "#l=list()"
   ]
  },
  {
   "cell_type": "code",
   "execution_count": 28,
   "id": "80536e69",
   "metadata": {},
   "outputs": [
    {
     "data": {
      "text/plain": [
       "{'a': 'Ant', 'b': 'Ball', 'c': 'Cat', 'd': 'Dog'}"
      ]
     },
     "execution_count": 28,
     "metadata": {},
     "output_type": "execute_result"
    }
   ],
   "source": [
    "a= {'a': 'Apple', 'b': 'Ball', 'c': 'Cat', 'd': 'Dog'}   #updating\n",
    "a['a']='Ant'\n",
    "a"
   ]
  },
  {
   "cell_type": "code",
   "execution_count": 29,
   "id": "ac7abe30",
   "metadata": {},
   "outputs": [
    {
     "name": "stdout",
     "output_type": "stream",
     "text": [
      "{'a': 'Apple', 'b': 'Ball', 'c': 'Cat'}\n"
     ]
    }
   ],
   "source": [
    "# delete\n",
    "# del pop()\n",
    "\n",
    "a= {'a': 'Apple', 'b': 'Ball', 'c': 'Cat', 'd': 'Dog'} \n",
    "del a['d']\n",
    "print(a)"
   ]
  },
  {
   "cell_type": "code",
   "execution_count": 32,
   "id": "f0d0b6cf",
   "metadata": {},
   "outputs": [
    {
     "name": "stdout",
     "output_type": "stream",
     "text": [
      "{'a': 'Apple', 'b': 'Ball', 'c': 'Cat'}\n",
      "Dog\n"
     ]
    }
   ],
   "source": [
    "a= {'a': 'Apple', 'b': 'Ball', 'c': 'Cat', 'd': 'Dog'} \n",
    "b= a.pop('d')\n",
    "print(a)\n",
    "print(b)"
   ]
  },
  {
   "cell_type": "code",
   "execution_count": 34,
   "id": "5e385578",
   "metadata": {},
   "outputs": [
    {
     "ename": "AttributeError",
     "evalue": "'dict' object has no attribute 'remove'",
     "output_type": "error",
     "traceback": [
      "\u001b[1;31m---------------------------------------------------------------------------\u001b[0m",
      "\u001b[1;31mAttributeError\u001b[0m                            Traceback (most recent call last)",
      "Cell \u001b[1;32mIn[34], line 2\u001b[0m\n\u001b[0;32m      1\u001b[0m a\u001b[38;5;241m=\u001b[39m {\u001b[38;5;124m'\u001b[39m\u001b[38;5;124ma\u001b[39m\u001b[38;5;124m'\u001b[39m: \u001b[38;5;124m'\u001b[39m\u001b[38;5;124mApple\u001b[39m\u001b[38;5;124m'\u001b[39m, \u001b[38;5;124m'\u001b[39m\u001b[38;5;124mb\u001b[39m\u001b[38;5;124m'\u001b[39m: \u001b[38;5;124m'\u001b[39m\u001b[38;5;124mBall\u001b[39m\u001b[38;5;124m'\u001b[39m, \u001b[38;5;124m'\u001b[39m\u001b[38;5;124mc\u001b[39m\u001b[38;5;124m'\u001b[39m: \u001b[38;5;124m'\u001b[39m\u001b[38;5;124mCat\u001b[39m\u001b[38;5;124m'\u001b[39m, \u001b[38;5;124m'\u001b[39m\u001b[38;5;124md\u001b[39m\u001b[38;5;124m'\u001b[39m: \u001b[38;5;124m'\u001b[39m\u001b[38;5;124mDog\u001b[39m\u001b[38;5;124m'\u001b[39m} \n\u001b[1;32m----> 2\u001b[0m a\u001b[38;5;241m.\u001b[39mremove(\u001b[38;5;124m'\u001b[39m\u001b[38;5;124mApple\u001b[39m\u001b[38;5;124m'\u001b[39m)\n\u001b[0;32m      3\u001b[0m a\n",
      "\u001b[1;31mAttributeError\u001b[0m: 'dict' object has no attribute 'remove'"
     ]
    }
   ],
   "source": [
    "a= {'a': 'Apple', 'b': 'Ball', 'c': 'Cat', 'd': 'Dog'}      #no remove function in dictionary\n",
    "a.remove('Apple')\n",
    "a"
   ]
  },
  {
   "cell_type": "code",
   "execution_count": 1,
   "id": "abda444f",
   "metadata": {},
   "outputs": [
    {
     "name": "stdout",
     "output_type": "stream",
     "text": [
      "Enter the value of n: 2\n",
      "Enter name: Ram\n",
      "Enter phone: 8478483\n",
      "Enter name: Hari\n",
      "Enter phone: 9484343\n",
      "{'8478483': 'Ram', '9484343': 'Hari'}\n"
     ]
    }
   ],
   "source": [
    "d = {}\n",
    "n = int(input(\"Enter the value of n: \"))\n",
    "for i in range(n):\n",
    "    name = input(\"Enter name: \")\n",
    "    phone = input(\"Enter phone: \")\n",
    "    d[phone]= name\n",
    "    \n",
    "print(d)"
   ]
  },
  {
   "cell_type": "code",
   "execution_count": 2,
   "id": "2d7d0299",
   "metadata": {},
   "outputs": [
    {
     "name": "stdout",
     "output_type": "stream",
     "text": [
      "Enter the value of n: 2\n",
      "Enter name: Ram\n",
      "Enter phone: 988838438\n",
      "Enter name: Hari\n",
      "Enter phone: 988842822\n",
      "{'Ram': '988838438', 'Hari': '988842822'}\n"
     ]
    }
   ],
   "source": [
    "d = {}                                                      #duplicate values ma cause issues, Ram can have more than one number\n",
    "n = int(input(\"Enter the value of n: \"))\n",
    "for i in range(n):\n",
    "    name = input(\"Enter name: \")\n",
    "    phone = input(\"Enter phone: \")\n",
    "    d[name]= phone\n",
    "    \n",
    "print(d)"
   ]
  },
  {
   "cell_type": "code",
   "execution_count": 3,
   "id": "c07296a5",
   "metadata": {},
   "outputs": [
    {
     "name": "stdout",
     "output_type": "stream",
     "text": [
      "{'Ram': [988838438, 987473747], 'Hari': [988842822, 98834384]}\n"
     ]
    }
   ],
   "source": [
    "# list inside dict\n",
    "\n",
    "d={\n",
    "    'Ram': [988838438,987473747], \n",
    "    'Hari': [988842822,98834384]}\n",
    "print(d)"
   ]
  },
  {
   "cell_type": "code",
   "execution_count": 4,
   "id": "76b6c5c3",
   "metadata": {},
   "outputs": [
    {
     "data": {
      "text/plain": [
       "[988838438, 987473747]"
      ]
     },
     "execution_count": 4,
     "metadata": {},
     "output_type": "execute_result"
    }
   ],
   "source": [
    "d['Ram']"
   ]
  },
  {
   "cell_type": "code",
   "execution_count": 9,
   "id": "bf1accf1",
   "metadata": {},
   "outputs": [
    {
     "name": "stdout",
     "output_type": "stream",
     "text": [
      "988838438\n",
      "98834384\n"
     ]
    }
   ],
   "source": [
    "print(d['Ram'][0])\n",
    "print(d['Hari'][1])"
   ]
  },
  {
   "cell_type": "code",
   "execution_count": 11,
   "id": "98ce4368",
   "metadata": {},
   "outputs": [
    {
     "name": "stdout",
     "output_type": "stream",
     "text": [
      "Enter the value of n: 2\n",
      "Enter name: Ram\n",
      "Enter ntc number: 9848384337\n",
      "Enter ncell number98437433848\n",
      "Enter name: Hari\n",
      "Enter ntc number: 887493949\n",
      "Enter ncell number984737433\n",
      "{'Ram': [9848384337, 98437433848], 'Hari': [887493949, 984737433]}\n"
     ]
    }
   ],
   "source": [
    "d = {}                                                      \n",
    "n = int(input(\"Enter the value of n: \"))\n",
    "for i in range(n):\n",
    "    name = input(\"Enter name: \")\n",
    "    ntc_phone = int(input(\"Enter ntc number: \"))\n",
    "    ncell_phone=int(input(\"Enter ncell number\"))\n",
    "    d[name]= [ntc_phone,ncell_phone]\n",
    "    \n",
    "print(d)"
   ]
  },
  {
   "cell_type": "code",
   "execution_count": 13,
   "id": "64afdaae",
   "metadata": {},
   "outputs": [
    {
     "name": "stdout",
     "output_type": "stream",
     "text": [
      "{'name': ['Ram', 'Shyam', 'Ram'], 'ntc_phone': [9477983473, 9847737423, 988473742], 'ncell_phone': [98847374, 9834324342, 983843473]}\n"
     ]
    }
   ],
   "source": [
    "d = {'name':['Ram','Shyam','Ram'],\n",
    "    'ntc_phone':[9477983473,9847737423,988473742],\n",
    "    'ncell_phone':[98847374,9834324342,983843473]}\n",
    "print(d)"
   ]
  },
  {
   "cell_type": "code",
   "execution_count": 15,
   "id": "4933c88a",
   "metadata": {},
   "outputs": [
    {
     "name": "stdout",
     "output_type": "stream",
     "text": [
      "Enter the value of n= 2\n",
      "Enter name: Ram\n",
      "Enter ntc number: 987737431\n",
      "Enter ncell number:97843824\n",
      "Enter name: Hari\n",
      "Enter ntc number: 98473483\n",
      "Enter ncell number:96732848\n",
      "{'name': ['Ram', 'Hari'], 'ntc_phone': [987737431, 98473483], 'ncell_phone': [97843824, 96732848]}\n"
     ]
    }
   ],
   "source": [
    "d = {'name':[],                                       #define the dicionary structure ate the beginning\n",
    "    'ntc_phone':[],\n",
    "    'ncell_phone':[]}\n",
    "n = int(input(\"Enter the value of n= \"))\n",
    "for i in range(n):\n",
    "    name = input(\"Enter name: \")\n",
    "    ntc_phone = int(input(\"Enter ntc number: \"))\n",
    "    ncell_phone=int(input(\"Enter ncell number:\"))\n",
    "    d['name'].append(name)                              #appending the values just like list\n",
    "    d['ntc_phone'].append(ntc_phone)\n",
    "    d['ncell_phone'].append(ncell_phone)\n",
    "    \n",
    "print(d)\n",
    "    \n",
    "    "
   ]
  },
  {
   "cell_type": "code",
   "execution_count": 17,
   "id": "164befcb",
   "metadata": {},
   "outputs": [
    {
     "name": "stdout",
     "output_type": "stream",
     "text": [
      "Hari 98473483 96732848\n"
     ]
    }
   ],
   "source": [
    "print(d['name'][1],d['ntc_phone'][1],d['ncell_phone'][1])"
   ]
  },
  {
   "cell_type": "code",
   "execution_count": 18,
   "id": "4e3a4d72",
   "metadata": {},
   "outputs": [
    {
     "name": "stdout",
     "output_type": "stream",
     "text": [
      "[{'name': 'Ram', 'age': 34, 'add': 'Kathmandu'}, {'name': 'Shyam', 'age': 37, 'add': 'Pokhara'}, {'name': 'Hari', 'age': 32, 'add': 'Lalitpur'}]\n"
     ]
    }
   ],
   "source": [
    "# dictionary inside list\n",
    "\n",
    "d=[{'name':'Ram','age':34,'add':'Kathmandu'},\n",
    "  {'name':'Shyam','age':37,'add':'Pokhara'},\n",
    "  {'name':'Hari','age':32,'add':'Lalitpur'}]\n",
    "print(d)                           #it prints list not dict"
   ]
  },
  {
   "cell_type": "code",
   "execution_count": 19,
   "id": "8d9d5d9a",
   "metadata": {},
   "outputs": [
    {
     "data": {
      "text/plain": [
       "{'name': 'Ram', 'age': 34, 'add': 'Kathmandu'}"
      ]
     },
     "execution_count": 19,
     "metadata": {},
     "output_type": "execute_result"
    }
   ],
   "source": [
    "d[0]                           #accessing the items in list"
   ]
  },
  {
   "cell_type": "code",
   "execution_count": 20,
   "id": "07d82be1",
   "metadata": {},
   "outputs": [
    {
     "data": {
      "text/plain": [
       "{'name': 'Shyam', 'age': 37, 'add': 'Pokhara'}"
      ]
     },
     "execution_count": 20,
     "metadata": {},
     "output_type": "execute_result"
    }
   ],
   "source": [
    "d[1]"
   ]
  },
  {
   "cell_type": "code",
   "execution_count": 21,
   "id": "11a132cc",
   "metadata": {},
   "outputs": [
    {
     "name": "stdout",
     "output_type": "stream",
     "text": [
      "Enter the value of n= 2\n",
      "Enter the name: Ram\n",
      "Enter the age: 35\n",
      "Enter the address: Pokhara\n",
      "Enter the name: Hari\n",
      "Enter the age: 32\n",
      "Enter the address: Kathmandu\n",
      "[{'name': 'Ram', 'age': '35', 'add': 'Pokhara'}, {'name': 'Hari', 'age': '32', 'add': 'Kathmandu'}]\n"
     ]
    }
   ],
   "source": [
    "d = []\n",
    "n = int(input(\"Enter the value of n= \"))\n",
    "for i in range(n):\n",
    "    name = input(\"Enter the name: \")\n",
    "    age = input(\"Enter the age: \")\n",
    "    add = input(\"Enter the address: \")\n",
    "    x= {'name':name,'age':age,'add':add}\n",
    "    d.append(x)\n",
    "    \n",
    "print(d)"
   ]
  },
  {
   "cell_type": "code",
   "execution_count": 1,
   "id": "8676a7e2",
   "metadata": {},
   "outputs": [],
   "source": [
    "# dictionary inside dictionary i.e. nested dictionary\n"
   ]
  },
  {
   "cell_type": "code",
   "execution_count": 3,
   "id": "3754f67e",
   "metadata": {},
   "outputs": [
    {
     "name": "stdout",
     "output_type": "stream",
     "text": [
      "<class 'dict'>\n"
     ]
    }
   ],
   "source": [
    "d = {1:{'name': 'Ram', 'age': 34, 'add': 'Kathmandu'}, \n",
    "       2: {'name': 'Shyam', 'age': 37, 'add': 'Pokhara'}, \n",
    "        3:{'name': 'Hari', 'age': 32, 'add': 'Lalitpur'}}\n",
    "print(type(d))"
   ]
  },
  {
   "cell_type": "code",
   "execution_count": 4,
   "id": "2cbf89e4",
   "metadata": {},
   "outputs": [
    {
     "name": "stdout",
     "output_type": "stream",
     "text": [
      "{'name': 'Ram', 'age': 34, 'add': 'Kathmandu'}\n"
     ]
    }
   ],
   "source": [
    "print(d[1])"
   ]
  },
  {
   "cell_type": "code",
   "execution_count": 6,
   "id": "87ade310",
   "metadata": {},
   "outputs": [
    {
     "name": "stdout",
     "output_type": "stream",
     "text": [
      "Enter the value of n= 2\n",
      "Enter the name: Ram\n",
      "Enter the age: 35\n",
      "Enter the address: Pokhara\n",
      "Enter the name: Hari\n",
      "Enter the age: 37\n",
      "Enter the address: Kathmandu\n",
      "{1: {'name': 'Ram', 'age': '35', 'add': 'Pokhara'}, 2: {'name': 'Hari', 'age': '37', 'add': 'Kathmandu'}}\n"
     ]
    }
   ],
   "source": [
    "d = {}\n",
    "n = int(input(\"Enter the value of n= \"))\n",
    "for i in range(1,n+1):\n",
    "    name = input(\"Enter the name: \")\n",
    "    age = input(\"Enter the age: \")\n",
    "    add = input(\"Enter the address: \")\n",
    "    x= {'name':name,'age':age,'add':add}\n",
    "    d[i]=x\n",
    "    \n",
    "print(d)"
   ]
  },
  {
   "cell_type": "code",
   "execution_count": 10,
   "id": "14599080",
   "metadata": {},
   "outputs": [
    {
     "data": {
      "text/plain": [
       "{'name': 'Ram', 'age': '35', 'add': 'Pokhara'}"
      ]
     },
     "execution_count": 10,
     "metadata": {},
     "output_type": "execute_result"
    }
   ],
   "source": [
    "d[1]"
   ]
  },
  {
   "cell_type": "code",
   "execution_count": 12,
   "id": "28367b5e",
   "metadata": {},
   "outputs": [
    {
     "data": {
      "text/plain": [
       "'Hari'"
      ]
     },
     "execution_count": 12,
     "metadata": {},
     "output_type": "execute_result"
    }
   ],
   "source": [
    "d[2]['name']"
   ]
  },
  {
   "cell_type": "code",
   "execution_count": 14,
   "id": "1b36a440",
   "metadata": {},
   "outputs": [
    {
     "data": {
      "text/plain": [
       "{1: {'name': 'Ram', 'age': '35', 'add': 'Pokhara'},\n",
       " 2: {'name': 'Hari Sharma', 'age': '37', 'add': 'Kathmandu'}}"
      ]
     },
     "execution_count": 14,
     "metadata": {},
     "output_type": "execute_result"
    }
   ],
   "source": [
    "d[2]['name'] = \"Hari Sharma\"              #updating name\n",
    "d"
   ]
  },
  {
   "cell_type": "code",
   "execution_count": 16,
   "id": "dbf25d63",
   "metadata": {},
   "outputs": [
    {
     "name": "stdout",
     "output_type": "stream",
     "text": [
      "{2: {'name': 'Hari', 'age': '37', 'add': 'Kathmandu'}}\n"
     ]
    }
   ],
   "source": [
    "a = {1: {'name': 'Ram', 'age': '35', 'add': 'Pokhara'},           #deleting\n",
    "     2: {'name': 'Hari', 'age': '37', 'add': 'Kathmandu'}}\n",
    "del a[1]\n",
    "print(a)"
   ]
  },
  {
   "cell_type": "code",
   "execution_count": 21,
   "id": "a82a556a",
   "metadata": {},
   "outputs": [
    {
     "data": {
      "text/plain": [
       "{1: {'name': 'Ram', 'age': '35', 'add': {'per': 'Pokhara', 'temp': 'Beni'}},\n",
       " 2: {'name': 'Hari',\n",
       "  'age': '37',\n",
       "  'add': {'per': 'Kathmandu', 'temp': 'Banepa'}}}"
      ]
     },
     "execution_count": 21,
     "metadata": {},
     "output_type": "execute_result"
    }
   ],
   "source": [
    "a = {1: {'name': 'Ram', 'age': '35', 'add':{'per': 'Pokhara','temp': 'Beni'}},          \n",
    "     2: {'name': 'Hari', 'age': '37', 'add':{'per': 'Kathmandu','temp':'Banepa'}}}\n",
    "     \n",
    "a"
   ]
  },
  {
   "cell_type": "code",
   "execution_count": null,
   "id": "68c812ea",
   "metadata": {},
   "outputs": [],
   "source": []
  }
 ],
 "metadata": {
  "kernelspec": {
   "display_name": "Python 3 (ipykernel)",
   "language": "python",
   "name": "python3"
  },
  "language_info": {
   "codemirror_mode": {
    "name": "ipython",
    "version": 3
   },
   "file_extension": ".py",
   "mimetype": "text/x-python",
   "name": "python",
   "nbconvert_exporter": "python",
   "pygments_lexer": "ipython3",
   "version": "3.11.5"
  }
 },
 "nbformat": 4,
 "nbformat_minor": 5
}
