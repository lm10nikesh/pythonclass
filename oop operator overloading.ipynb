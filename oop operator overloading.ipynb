{
 "cells": [
  {
   "cell_type": "code",
   "execution_count": 3,
   "id": "b89308ab",
   "metadata": {},
   "outputs": [
    {
     "name": "stdout",
     "output_type": "stream",
     "text": [
      "4 5\n",
      "<class '__main__.Point'>\n"
     ]
    }
   ],
   "source": [
    "class Point:\n",
    "    def __init__(self, x=0, y=0):\n",
    "        self.x=x\n",
    "        self.y=y\n",
    "        \n",
    "    def __str__(self):\n",
    "        return f\"{self.x} {self.y}\"\n",
    "        \n",
    "    def __add__(self,other):\n",
    "        x = self.x +other.y\n",
    "        y = self.y +other.y\n",
    "        return Point(x,y)\n",
    "    \n",
    "p1 = Point(2,3)\n",
    "p2 = Point(-1,2)\n",
    "print(p1+p2)\n",
    "print(type(p1+p2))             "
   ]
  },
  {
   "cell_type": "code",
   "execution_count": 13,
   "id": "040490a1",
   "metadata": {},
   "outputs": [
    {
     "name": "stdout",
     "output_type": "stream",
     "text": [
      "This is init method 1000\n",
      "This is init method 2000\n",
      "This is init method 4000\n",
      "This is add method 3000\n",
      "This is init method 3000\n",
      "This is add method 7000\n",
      "This is init method 7000\n",
      "This is str method 7000\n",
      "7000\n"
     ]
    }
   ],
   "source": [
    "class Point:\n",
    "    def __init__(self, x=0):\n",
    "        self.x=x\n",
    "        print(\"This is init method\", self.x)\n",
    "        \n",
    "    def __str__(self):                                                \n",
    "        print(\"This is str method\", self.x)\n",
    "        return f\"{self.x}\"\n",
    "        \n",
    "    def __add__(self,other):\n",
    "        x = self.x + other.x\n",
    "        print(\"This is add method\",x)\n",
    "        return Point(x)\n",
    "    \n",
    "p1 = Point(1000)\n",
    "p2 = Point(2000)\n",
    "p3 = Point(4000)\n",
    "print(p1 + p2 + p3)"
   ]
  },
  {
   "cell_type": "code",
   "execution_count": null,
   "id": "84371172",
   "metadata": {},
   "outputs": [],
   "source": []
  }
 ],
 "metadata": {
  "kernelspec": {
   "display_name": "Python 3 (ipykernel)",
   "language": "python",
   "name": "python3"
  },
  "language_info": {
   "codemirror_mode": {
    "name": "ipython",
    "version": 3
   },
   "file_extension": ".py",
   "mimetype": "text/x-python",
   "name": "python",
   "nbconvert_exporter": "python",
   "pygments_lexer": "ipython3",
   "version": "3.11.5"
  }
 },
 "nbformat": 4,
 "nbformat_minor": 5
}
