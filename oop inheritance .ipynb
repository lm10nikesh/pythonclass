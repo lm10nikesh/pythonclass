{
 "cells": [
  {
   "cell_type": "code",
   "execution_count": 1,
   "id": "452bee96",
   "metadata": {},
   "outputs": [],
   "source": [
    "#class A:\n",
    "#    pass\n",
    "\n",
    "#class B(A):\n",
    "#    pass\n",
    "\n",
    "#obj = B()"
   ]
  },
  {
   "cell_type": "code",
   "execution_count": 4,
   "id": "2202df5a",
   "metadata": {},
   "outputs": [
    {
     "name": "stdout",
     "output_type": "stream",
     "text": [
      "Hello World I am Ram. I am from Kathmandu. I am 45.\n",
      "Ram 45 Kathmandu\n"
     ]
    }
   ],
   "source": [
    "class A:                                         #parent class\n",
    "    def __init__(self):\n",
    "        self.name = \"Ram\"\n",
    "        self.age = 45\n",
    "        self.add = \"Kathmandu\"\n",
    "        \n",
    "    def data(self):\n",
    "        print(self.name,self.age,self.add)\n",
    "        \n",
    "class B(A):                                      #child class\n",
    "    def info(self): \n",
    "        print(f\"Hello World I am {self.name}. I am from {self.add}. I am {self.age}.\")\n",
    "\n",
    "obj = B()\n",
    "obj.info()\n",
    "obj.data()"
   ]
  },
  {
   "cell_type": "code",
   "execution_count": 6,
   "id": "7078bade",
   "metadata": {},
   "outputs": [
    {
     "name": "stdout",
     "output_type": "stream",
     "text": [
      "Enter name = Ram \n",
      "Enter age = 44\n",
      "Enter address = Pokhara\n",
      "Hello World, I am Ram . I am from Pokhara. I am 44.\n",
      "Ram  44 Pokhara\n"
     ]
    }
   ],
   "source": [
    "class A:                                         #parent class\n",
    "    def __init__(self,name,age,add):\n",
    "        self.name = name\n",
    "        self.age = age\n",
    "        self.add = add\n",
    "        \n",
    "    def data(self):\n",
    "        print(self.name,self.age,self.add)\n",
    "        \n",
    "class B(A):                                      #child class; not initialized so depends on parent class A's initilization\n",
    "    def info(self): \n",
    "        print(f\"Hello World, I am {self.name}. I am from {self.add}. I am {self.age}.\")\n",
    "        \n",
    "name = input(\"Enter name = \")\n",
    "age = int(input(\"Enter age = \"))\n",
    "add = input(\"Enter address = \")\n",
    "\n",
    "\n",
    "obj = B(name,age,add)\n",
    "obj.info()\n",
    "obj.data()"
   ]
  },
  {
   "cell_type": "code",
   "execution_count": 7,
   "id": "7e47c4ac",
   "metadata": {},
   "outputs": [
    {
     "name": "stdout",
     "output_type": "stream",
     "text": [
      "Enter name = Ram\n",
      "Enter age = 54\n",
      "Enter address = Kathmandu\n",
      "Hello World, I am Ram. I am from Kathmandu. I am 54.\n",
      "data method of class A is called from class B ('Ram', 54, 'Kathmandu')\n"
     ]
    }
   ],
   "source": [
    "class A:                                         #parent class\n",
    "    def __init__(self,name,age,add):\n",
    "        self.name = name\n",
    "        self.age = age\n",
    "        self.add = add\n",
    "        \n",
    "    def data(self):\n",
    "        return(self.name,self.age,self.add)\n",
    "        \n",
    "class B(A):                                      #child class; not initialized so depends on parent class A's initilization\n",
    "    def info(self): \n",
    "        print(f\"Hello World, I am {self.name}. I am from {self.add}. I am {self.age}.\")\n",
    "        print(\"data method of class A is called from class B\", A.data(self))\n",
    "        \n",
    "name = input(\"Enter name = \")\n",
    "age = int(input(\"Enter age = \"))\n",
    "add = input(\"Enter address = \")\n",
    "\n",
    "\n",
    "obj = B(name,age,add)\n",
    "obj.info()\n"
   ]
  },
  {
   "cell_type": "code",
   "execution_count": 8,
   "id": "3dc71d94",
   "metadata": {},
   "outputs": [
    {
     "name": "stdout",
     "output_type": "stream",
     "text": [
      "Enter name = Bibek\n",
      "Enter age = 30\n",
      "Enter address = Pokhara\n",
      "Hello World, I am Bibek. I am from Pokhara. I am 30.\n",
      "30\n"
     ]
    }
   ],
   "source": [
    "class A:                                         #parent class\n",
    "    def __init__(self,age):                      #only age initialized in class A\n",
    "        self.age = age\n",
    "           \n",
    "    def data(self):\n",
    "        print(self.age)\n",
    "        \n",
    "class B(A):                                      #child class; not initialized so depends on parent class A's initilization\n",
    "    def __init__(self,name,age,add):             \n",
    "        self.name = name\n",
    "        self.add = add\n",
    "        A.__init__(self,age)\n",
    "        \n",
    "    def info(self): \n",
    "        print(f\"Hello World, I am {self.name}. I am from {self.add}. I am {self.age}.\")\n",
    "        \n",
    "name = input(\"Enter name = \")\n",
    "age = int(input(\"Enter age = \"))\n",
    "add = input(\"Enter address = \")\n",
    "\n",
    "\n",
    "obj = B(name,age,add)\n",
    "obj.info()\n",
    "obj.data()"
   ]
  },
  {
   "cell_type": "code",
   "execution_count": 10,
   "id": "83750062",
   "metadata": {},
   "outputs": [],
   "source": [
    "# Multilevel Inheritance\n",
    "\n",
    "class A:\n",
    "    pass\n",
    "\n",
    "class B(A):                       #B inherits A\n",
    "    pass\n",
    "\n",
    "class C(B):                      #C inherits B\n",
    "    pass\n",
    "\n",
    "obj = C()"
   ]
  },
  {
   "cell_type": "code",
   "execution_count": 15,
   "id": "43d2037e",
   "metadata": {},
   "outputs": [
    {
     "name": "stdout",
     "output_type": "stream",
     "text": [
      "Hello World, I am Ram. I am 33. I am from Kathmandu.\n"
     ]
    }
   ],
   "source": [
    "class A:\n",
    "    def __init__(self):\n",
    "        self.name = \"Ram\"\n",
    "\n",
    "class B(A):\n",
    "    def __init__(self):\n",
    "        self.age = 33\n",
    "        A.__init__(self)\n",
    "        \n",
    "class C(B):\n",
    "    def __init__(self):\n",
    "        self.add = \"Kathmandu\"\n",
    "        B.__init__(self)\n",
    "        \n",
    "    def info(self):\n",
    "        print(f\"Hello World, I am {self.name}. I am {self.age}. I am from {self.add}.\")\n",
    "        \n",
    "obj = C()\n",
    "obj.info()"
   ]
  },
  {
   "cell_type": "code",
   "execution_count": 16,
   "id": "9ceacfb8",
   "metadata": {},
   "outputs": [
    {
     "name": "stdout",
     "output_type": "stream",
     "text": [
      "Hello World, I am Ram. I am 33. I am from Kathmandu.\n"
     ]
    }
   ],
   "source": [
    "# multiclass inheritance\n",
    "\n",
    "class A:\n",
    "    def __init__(self):\n",
    "        self.name = \"Ram\"\n",
    "    def a():\n",
    "        pass\n",
    "\n",
    "class B:                                       #B and A are unknown to each other\n",
    "    def __init__(self):\n",
    "        self.age = 33\n",
    "    def b():\n",
    "        pass\n",
    "         \n",
    "class C(A,B):                                   #C inherits from both A and B\n",
    "    def __init__(self):\n",
    "        self.add = \"Kathmandu\"\n",
    "        A.__init__(self)\n",
    "        B.__init__(self)\n",
    "        \n",
    "    def info(self):\n",
    "        print(f\"Hello World, I am {self.name}. I am {self.age}. I am from {self.add}.\")\n",
    "        \n",
    "obj = C()\n",
    "obj.info()"
   ]
  },
  {
   "cell_type": "code",
   "execution_count": 3,
   "id": "c731fdf9",
   "metadata": {},
   "outputs": [],
   "source": [
    "# private, public and protected members"
   ]
  },
  {
   "cell_type": "code",
   "execution_count": 4,
   "id": "ddac79cd",
   "metadata": {},
   "outputs": [
    {
     "name": "stdout",
     "output_type": "stream",
     "text": [
      "Ram\n",
      "34\n",
      "Kathmandu\n"
     ]
    }
   ],
   "source": [
    "#public members\n",
    "\n",
    "class Info:\n",
    "    def __init__(self):\n",
    "        self.name = \"Ram\"\n",
    "        self.age = 34\n",
    "        self.add = \"Kathmandu\"\n",
    "        \n",
    "obj = Info()\n",
    "print(obj.name)\n",
    "print(obj.age)\n",
    "print(obj.add)"
   ]
  },
  {
   "cell_type": "code",
   "execution_count": 5,
   "id": "0e4b4b6f",
   "metadata": {},
   "outputs": [
    {
     "name": "stdout",
     "output_type": "stream",
     "text": [
      "Ram\n",
      "34\n",
      "Kathmandu\n"
     ]
    }
   ],
   "source": [
    "#protected members\n",
    "\n",
    "class Info:\n",
    "    def __init__(self):\n",
    "        self._name = \"Ram\"\n",
    "        self._age = 34\n",
    "        self._add = \"Kathmandu\"\n",
    "        \n",
    "obj = Info()\n",
    "print(obj._name)\n",
    "print(obj._age)\n",
    "print(obj._add)"
   ]
  },
  {
   "cell_type": "code",
   "execution_count": 6,
   "id": "4b6e83a6",
   "metadata": {},
   "outputs": [
    {
     "ename": "AttributeError",
     "evalue": "'Info' object has no attribute '__name'",
     "output_type": "error",
     "traceback": [
      "\u001b[1;31m---------------------------------------------------------------------------\u001b[0m",
      "\u001b[1;31mAttributeError\u001b[0m                            Traceback (most recent call last)",
      "Cell \u001b[1;32mIn[6], line 10\u001b[0m\n\u001b[0;32m      7\u001b[0m         \u001b[38;5;28mself\u001b[39m\u001b[38;5;241m.\u001b[39m__add \u001b[38;5;241m=\u001b[39m \u001b[38;5;124m\"\u001b[39m\u001b[38;5;124mKathmandu\u001b[39m\u001b[38;5;124m\"\u001b[39m\n\u001b[0;32m      9\u001b[0m obj \u001b[38;5;241m=\u001b[39m Info()\n\u001b[1;32m---> 10\u001b[0m \u001b[38;5;28mprint\u001b[39m(obj\u001b[38;5;241m.\u001b[39m__name)\n\u001b[0;32m     11\u001b[0m \u001b[38;5;28mprint\u001b[39m(obj\u001b[38;5;241m.\u001b[39m__age)\n\u001b[0;32m     12\u001b[0m \u001b[38;5;28mprint\u001b[39m(obj\u001b[38;5;241m.\u001b[39m__add)\n",
      "\u001b[1;31mAttributeError\u001b[0m: 'Info' object has no attribute '__name'"
     ]
    }
   ],
   "source": [
    "#private members\n",
    "\n",
    "class Info:\n",
    "    def __init__(self):\n",
    "        self.__name = \"Ram\"\n",
    "        self.__age = 34\n",
    "        self.__add = \"Kathmandu\"\n",
    "        \n",
    "obj = Info()                     \n",
    "print(obj.__name)                     #private members cannot be accessed otside of class\n",
    "print(obj.__age)\n",
    "print(obj.__add)"
   ]
  },
  {
   "cell_type": "code",
   "execution_count": 7,
   "id": "dbf4b9bc",
   "metadata": {},
   "outputs": [
    {
     "name": "stdout",
     "output_type": "stream",
     "text": [
      "Enter name = Ram\n",
      "Enter age = 44\n",
      "Enter address = Pokhara\n",
      "Hello World, I am Ram. I am 44.\n",
      "data method of class A is called from class B ('Ram', 44, 'Pokhara')\n"
     ]
    }
   ],
   "source": [
    "class A:                                         #parent class\n",
    "    def __init__(self,name,age,add):\n",
    "        self.name = name                        #public\n",
    "        self._age = age                         #age is made protected\n",
    "        self.__add = add                        #add is made private\n",
    "        \n",
    "    def data(self):\n",
    "        return(self.name,self._age,self.__add)    \n",
    "        \n",
    "class B(A):                                      #child class; not initialized so depends on parent class A's initilization\n",
    "    def info(self): \n",
    "        print(f\"Hello World, I am {self.name}. I am {self._age}.\")            #add is private so cant be used here\n",
    "        print(\"data method of class A is called from class B\", A.data(self))  #method call from class A\n",
    "        \n",
    "name = input(\"Enter name = \")\n",
    "age = int(input(\"Enter age = \"))\n",
    "add = input(\"Enter address = \")\n",
    "\n",
    "\n",
    "obj = B(name,age,add)\n",
    "obj.info()"
   ]
  },
  {
   "cell_type": "code",
   "execution_count": 13,
   "id": "e2b8076a",
   "metadata": {},
   "outputs": [
    {
     "name": "stdout",
     "output_type": "stream",
     "text": [
      "Ram\n",
      "34\n",
      "Kathmandu\n"
     ]
    }
   ],
   "source": [
    "\n",
    "class Info:\n",
    "    def __init__(self):\n",
    "        self.__name = \"Ram\"\n",
    "        self.__age = 34\n",
    "        self.__add = \"Kathmandu\"\n",
    "        \n",
    "obj = Info()                     \n",
    "#print(obj.__name)                     \n",
    "#print(obj.__age)\n",
    "#print(obj.__add)\n",
    "print(obj._Info__name)           #accessing private attribute\n",
    "print(obj._Info__age)\n",
    "print(obj._Info__add)\n"
   ]
  },
  {
   "cell_type": "code",
   "execution_count": null,
   "id": "42cb43ba",
   "metadata": {},
   "outputs": [],
   "source": []
  }
 ],
 "metadata": {
  "kernelspec": {
   "display_name": "Python 3 (ipykernel)",
   "language": "python",
   "name": "python3"
  },
  "language_info": {
   "codemirror_mode": {
    "name": "ipython",
    "version": 3
   },
   "file_extension": ".py",
   "mimetype": "text/x-python",
   "name": "python",
   "nbconvert_exporter": "python",
   "pygments_lexer": "ipython3",
   "version": "3.11.5"
  }
 },
 "nbformat": 4,
 "nbformat_minor": 5
}
