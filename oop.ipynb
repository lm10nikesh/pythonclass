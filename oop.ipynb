{
 "cells": [
  {
   "cell_type": "code",
   "execution_count": 5,
   "id": "c480b85c",
   "metadata": {},
   "outputs": [
    {
     "ename": "TypeError",
     "evalue": "Hello.hello() takes 0 positional arguments but 1 was given",
     "output_type": "error",
     "traceback": [
      "\u001b[1;31m---------------------------------------------------------------------------\u001b[0m",
      "\u001b[1;31mTypeError\u001b[0m                                 Traceback (most recent call last)",
      "Cell \u001b[1;32mIn[5], line 6\u001b[0m\n\u001b[0;32m      3\u001b[0m         \u001b[38;5;28mprint\u001b[39m(\u001b[38;5;124m\"\u001b[39m\u001b[38;5;124mHello World\u001b[39m\u001b[38;5;124m\"\u001b[39m)\n\u001b[0;32m      5\u001b[0m obj \u001b[38;5;241m=\u001b[39m Hello()            \u001b[38;5;66;03m#object\u001b[39;00m\n\u001b[1;32m----> 6\u001b[0m obj\u001b[38;5;241m.\u001b[39mhello()\n",
      "\u001b[1;31mTypeError\u001b[0m: Hello.hello() takes 0 positional arguments but 1 was given"
     ]
    }
   ],
   "source": [
    "class Hello:             #class\n",
    "    def hello():         #method\n",
    "        print(\"Hello World\")\n",
    "\n",
    "obj = Hello()            #object\n",
    "obj.hello()"
   ]
  },
  {
   "cell_type": "code",
   "execution_count": 6,
   "id": "b7d311cb",
   "metadata": {},
   "outputs": [
    {
     "name": "stdout",
     "output_type": "stream",
     "text": [
      "Hello World\n"
     ]
    }
   ],
   "source": [
    "class Hello:             #class\n",
    "    \n",
    "    def hello(self):         #method\n",
    "        print(\"Hello World\")\n",
    "\n",
    "obj = Hello()            #object\n",
    "obj.hello()"
   ]
  },
  {
   "cell_type": "code",
   "execution_count": 7,
   "id": "ff38ac5a",
   "metadata": {},
   "outputs": [
    {
     "name": "stdout",
     "output_type": "stream",
     "text": [
      "Hello World\n"
     ]
    }
   ],
   "source": [
    "class Hello:             #class\n",
    "    @staticmethod\n",
    "    def hello():         #method\n",
    "        print(\"Hello World\")\n",
    "\n",
    "obj = Hello()            #object\n",
    "obj.hello()"
   ]
  },
  {
   "cell_type": "code",
   "execution_count": 8,
   "id": "26ad3067",
   "metadata": {},
   "outputs": [
    {
     "name": "stdout",
     "output_type": "stream",
     "text": [
      "50\n"
     ]
    }
   ],
   "source": [
    "class Cal:             #class\n",
    "    @staticmethod\n",
    "    def area(l,b):     #method\n",
    "        print(l*b)\n",
    "\n",
    "obj = Cal()            #object\n",
    "obj.area(10,5)"
   ]
  },
  {
   "cell_type": "code",
   "execution_count": 14,
   "id": "5852d6ba",
   "metadata": {},
   "outputs": [
    {
     "name": "stdout",
     "output_type": "stream",
     "text": [
      "50\n",
      "150\n"
     ]
    }
   ],
   "source": [
    "class Cal:                     #class\n",
    "    def __init__(self,l,b,h):  #constructor\n",
    "        self.l = l\n",
    "        self.b = b\n",
    "        self.h = h\n",
    "        \n",
    "    def area(self):             #method\n",
    "        print(self.l*self.b)\n",
    "        \n",
    "    def volume(self):\n",
    "        print(self.l*self.b*self.h)\n",
    "\n",
    "obj = Cal(10,5,3)                #object\n",
    "obj.area()\n",
    "obj.volume()"
   ]
  },
  {
   "cell_type": "code",
   "execution_count": 15,
   "id": "3935356f",
   "metadata": {},
   "outputs": [
    {
     "name": "stdout",
     "output_type": "stream",
     "text": [
      "50\n",
      "150\n"
     ]
    }
   ],
   "source": [
    "class Cal:                     #class\n",
    "    def __init__(self,l,b,h):  #constructor\n",
    "        self.l = l\n",
    "        self.b = b\n",
    "        self.h = h\n",
    "        \n",
    "    def area(this):             #method\n",
    "        print(this.l*this.b)\n",
    "        \n",
    "    def volume(self):\n",
    "        print(self.l*self.b*self.h)\n",
    "\n",
    "obj = Cal(10,5,3)                #object\n",
    "obj.area()\n",
    "obj.volume()"
   ]
  },
  {
   "cell_type": "code",
   "execution_count": 17,
   "id": "5b2913fd",
   "metadata": {},
   "outputs": [
    {
     "name": "stdout",
     "output_type": "stream",
     "text": [
      "50\n",
      "150\n"
     ]
    }
   ],
   "source": [
    "class Cal:                     #class\n",
    "    def __init__(self,l,b):  #constructor\n",
    "        self.l = l\n",
    "        self.b = b\n",
    "        \n",
    "    def area(this):             #method\n",
    "        print(this.l*this.b)\n",
    "        \n",
    "    def volume(self,h):\n",
    "        print(self.l*self.b*h)\n",
    "\n",
    "obj = Cal(10,5)                #object\n",
    "obj.area()\n",
    "obj.volume(3)"
   ]
  },
  {
   "cell_type": "code",
   "execution_count": 20,
   "id": "73149fb5",
   "metadata": {},
   "outputs": [
    {
     "name": "stdout",
     "output_type": "stream",
     "text": [
      "Enter name= Ram\n",
      "Enter age= 25\n",
      "Enter address= Pokhara\n",
      "Hello I am Ram, I am from Pokhara. I am 25\n"
     ]
    }
   ],
   "source": [
    "class Info:\n",
    "    def __init__(self,name,age,add):\n",
    "        self.name=name\n",
    "        self.age=age\n",
    "        self.add=add\n",
    "    def info(self):\n",
    "        print(f\"Hello I am {self.name}, I am from {self.add}. I am {self.age}\")\n",
    "              \n",
    "name = input(\"Enter name= \")\n",
    "age = int(input(\"Enter age= \"))\n",
    "add = input(\"Enter address= \")\n",
    "\n",
    "obj = Info(name,age,add)\n",
    "obj.info()"
   ]
  },
  {
   "cell_type": "code",
   "execution_count": 23,
   "id": "658d3ae3",
   "metadata": {},
   "outputs": [
    {
     "name": "stdout",
     "output_type": "stream",
     "text": [
      "Enter name= Ram\n",
      "Enter age= 45\n",
      "Enter address= Ktm\n",
      "Hello I am Ram, I am from Ktm. I am 45\n"
     ]
    }
   ],
   "source": [
    "class Info:\n",
    "    def __init__(self,name,age):\n",
    "        self.name=name\n",
    "        self.age=age\n",
    "        self.add=input(\"Enter address= \")\n",
    "    def info(self):\n",
    "        print(f\"Hello I am {self.name}, I am from {self.add}. I am {self.age}\")\n",
    "              \n",
    "name = input(\"Enter name= \")\n",
    "age = int(input(\"Enter age= \"))\n",
    "\n",
    "\n",
    "obj = Info(name,age)\n",
    "obj.info()"
   ]
  },
  {
   "cell_type": "code",
   "execution_count": 24,
   "id": "ed56e685",
   "metadata": {},
   "outputs": [
    {
     "name": "stdout",
     "output_type": "stream",
     "text": [
      "Enter name= Shyam\n",
      "Enter age= 30\n",
      "Enter address= Kathmandu\n",
      "Hello I am Shyam, I am from Kathmandu. I am 30\n",
      "Kathmandu\n",
      "Shyam\n"
     ]
    }
   ],
   "source": [
    "class Info:\n",
    "    def __init__(self,name,age):\n",
    "        self.name=name\n",
    "        self.age=age\n",
    "        self.add=input(\"Enter address= \")\n",
    "    def info(self):\n",
    "        print(f\"Hello I am {self.name}, I am from {self.add}. I am {self.age}\")\n",
    "              \n",
    "name = input(\"Enter name= \")\n",
    "age = int(input(\"Enter age= \"))\n",
    "\n",
    "\n",
    "obj = Info(name,age)\n",
    "obj.info()\n",
    "print(obj.add)            #outside class\n",
    "print(obj.name)           "
   ]
  },
  {
   "cell_type": "code",
   "execution_count": 32,
   "id": "9d86657d",
   "metadata": {},
   "outputs": [
    {
     "name": "stdout",
     "output_type": "stream",
     "text": [
      "Hello I am Ram, I am from Kathmandu and I am 37.\n",
      "Hello I am Shyam, I am from Pokhara and I am 30.\n"
     ]
    }
   ],
   "source": [
    "class Info:\n",
    "    def __init__(self,name,age,add):\n",
    "        self.name=name\n",
    "        self.age=age\n",
    "        self.add=add\n",
    "    def info(self):\n",
    "        print(f\"Hello I am {self.name}, I am from {self.add} and I am {self.age}.\")\n",
    "            \n",
    "\n",
    "obj = Info(\"Ram\",37,\"Kathmandu\")               #multiple objects of a class\n",
    "obj1 = Info(\"Shyam\",30,\"Pokhara\")\n",
    "\n",
    "obj.info()\n",
    "obj1.info()"
   ]
  },
  {
   "cell_type": "code",
   "execution_count": 33,
   "id": "e3ee2dc3",
   "metadata": {},
   "outputs": [
    {
     "name": "stdout",
     "output_type": "stream",
     "text": [
      "Hello I am Ram, I am from Kathmandu and I am 37.\n",
      "Hello I am Shyam, I am from Pokhara and I am 30.\n"
     ]
    }
   ],
   "source": [
    "class Info:\n",
    "    def __init__(self,name,age,add):\n",
    "        self.name=name\n",
    "        self.age=age\n",
    "        self.add=add\n",
    "    def info(self):\n",
    "        return(f\"Hello I am {self.name}, I am from {self.add} and I am {self.age}.\")\n",
    "            \n",
    "\n",
    "obj = Info(\"Ram\",37,\"Kathmandu\")               #multiple objects of a class\n",
    "obj1 = Info(\"Shyam\",30,\"Pokhara\")\n",
    "\n",
    "print(obj.info())\n",
    "print(obj1.info())"
   ]
  },
  {
   "cell_type": "code",
   "execution_count": 3,
   "id": "ae1fc9fb",
   "metadata": {},
   "outputs": [
    {
     "name": "stdout",
     "output_type": "stream",
     "text": [
      "Enter name= Ram\n",
      "Enter age= 44\n",
      "Enter address= Ktm\n",
      "Hello I am Ram, I am from Ktm. I am 44\n",
      "Ram\n",
      "Ram\n",
      "Ram\n"
     ]
    }
   ],
   "source": [
    "class Info:\n",
    "    def __init__(self):\n",
    "        self.name = input(\"Enter name= \")\n",
    "        self.age= int(input(\"Enter age= \"))\n",
    "        self.add=input(\"Enter address= \")\n",
    "        \n",
    "    def __str__(self):\n",
    "        return self.name\n",
    "    \n",
    "    def info(self):\n",
    "        print(f\"Hello I am {self.name}, I am from {self.add}. I am {self.age}\")\n",
    "              \n",
    "\n",
    "obj = Info()\n",
    "obj.info()\n",
    "print(obj)                 #It returns object. Ram is not string here.\n",
    "print(obj.__str__())\n",
    "print(str(obj))"
   ]
  },
  {
   "cell_type": "code",
   "execution_count": 6,
   "id": "f59c77f8",
   "metadata": {},
   "outputs": [
    {
     "name": "stdout",
     "output_type": "stream",
     "text": [
      "Enter name= Ram\n",
      "Enter age= 34\n",
      "Enter address= Pokhara\n",
      "Hello I am Ram, I am from Pokhara. I am 34\n",
      "Ram\n",
      "Ram\n",
      "Ram Shyam\n"
     ]
    }
   ],
   "source": [
    "class Info:\n",
    "    def __init__(self):\n",
    "        self.name = input(\"Enter name= \")\n",
    "        self.age= int(input(\"Enter age= \"))\n",
    "        self.add=input(\"Enter address= \")\n",
    "        \n",
    "    def __str__(self):\n",
    "        return self.name\n",
    "    \n",
    "    def info(self):\n",
    "        print(f\"Hello I am {self.name}, I am from {self.add}. I am {self.age}\")\n",
    "              \n",
    "\n",
    "obj = Info()\n",
    "obj.info()\n",
    "print(obj)                 #It returns object. Ram is not string here.\n",
    "print(obj.__str__())\n",
    "print(str(obj)+ \" Shyam\")   #Covertin obj into string"
   ]
  },
  {
   "cell_type": "markdown",
   "id": "4444c420",
   "metadata": {},
   "source": []
  }
 ],
 "metadata": {
  "kernelspec": {
   "display_name": "Python 3 (ipykernel)",
   "language": "python",
   "name": "python3"
  },
  "language_info": {
   "codemirror_mode": {
    "name": "ipython",
    "version": 3
   },
   "file_extension": ".py",
   "mimetype": "text/x-python",
   "name": "python",
   "nbconvert_exporter": "python",
   "pygments_lexer": "ipython3",
   "version": "3.11.5"
  }
 },
 "nbformat": 4,
 "nbformat_minor": 5
}
